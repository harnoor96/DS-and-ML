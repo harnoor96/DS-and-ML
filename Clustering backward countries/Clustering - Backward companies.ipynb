{
 "cells": [
  {
   "cell_type": "code",
   "execution_count": 1,
   "metadata": {},
   "outputs": [],
   "source": [
    "#required libraries\n",
    "import numpy as np\n",
    "import pandas as pd\n",
    "import matplotlib.pyplot as plt\n",
    "import seaborn as sns\n",
    "%matplotlib inline\n",
    "\n",
    "# To Scale our data\n",
    "from sklearn.preprocessing import scale\n",
    "\n",
    "# To perform KMeans clustering \n",
    "from sklearn.cluster import KMeans\n",
    "\n",
    "from functools import reduce"
   ]
  },
  {
   "cell_type": "code",
   "execution_count": 2,
   "metadata": {},
   "outputs": [],
   "source": [
    "#import warnings to filter warnings\n",
    "import warnings\n",
    "warnings.filterwarnings('ignore')"
   ]
  },
  {
   "cell_type": "markdown",
   "metadata": {},
   "source": [
    "## Read and load data"
   ]
  },
  {
   "cell_type": "markdown",
   "metadata": {},
   "source": [
    "##### Loading the country data from csv"
   ]
  },
  {
   "cell_type": "code",
   "execution_count": 3,
   "metadata": {},
   "outputs": [
    {
     "data": {
      "text/html": [
       "<div>\n",
       "<style scoped>\n",
       "    .dataframe tbody tr th:only-of-type {\n",
       "        vertical-align: middle;\n",
       "    }\n",
       "\n",
       "    .dataframe tbody tr th {\n",
       "        vertical-align: top;\n",
       "    }\n",
       "\n",
       "    .dataframe thead th {\n",
       "        text-align: right;\n",
       "    }\n",
       "</style>\n",
       "<table border=\"1\" class=\"dataframe\">\n",
       "  <thead>\n",
       "    <tr style=\"text-align: right;\">\n",
       "      <th></th>\n",
       "      <th>country</th>\n",
       "      <th>child_mort</th>\n",
       "      <th>exports</th>\n",
       "      <th>health</th>\n",
       "      <th>imports</th>\n",
       "      <th>income</th>\n",
       "      <th>inflation</th>\n",
       "      <th>life_expec</th>\n",
       "      <th>total_fer</th>\n",
       "      <th>gdpp</th>\n",
       "    </tr>\n",
       "  </thead>\n",
       "  <tbody>\n",
       "    <tr>\n",
       "      <td>0</td>\n",
       "      <td>Afghanistan</td>\n",
       "      <td>90.2</td>\n",
       "      <td>10.0</td>\n",
       "      <td>7.58</td>\n",
       "      <td>44.9</td>\n",
       "      <td>1610</td>\n",
       "      <td>9.44</td>\n",
       "      <td>56.2</td>\n",
       "      <td>5.82</td>\n",
       "      <td>553</td>\n",
       "    </tr>\n",
       "    <tr>\n",
       "      <td>1</td>\n",
       "      <td>Albania</td>\n",
       "      <td>16.6</td>\n",
       "      <td>28.0</td>\n",
       "      <td>6.55</td>\n",
       "      <td>48.6</td>\n",
       "      <td>9930</td>\n",
       "      <td>4.49</td>\n",
       "      <td>76.3</td>\n",
       "      <td>1.65</td>\n",
       "      <td>4090</td>\n",
       "    </tr>\n",
       "    <tr>\n",
       "      <td>2</td>\n",
       "      <td>Algeria</td>\n",
       "      <td>27.3</td>\n",
       "      <td>38.4</td>\n",
       "      <td>4.17</td>\n",
       "      <td>31.4</td>\n",
       "      <td>12900</td>\n",
       "      <td>16.10</td>\n",
       "      <td>76.5</td>\n",
       "      <td>2.89</td>\n",
       "      <td>4460</td>\n",
       "    </tr>\n",
       "    <tr>\n",
       "      <td>3</td>\n",
       "      <td>Angola</td>\n",
       "      <td>119.0</td>\n",
       "      <td>62.3</td>\n",
       "      <td>2.85</td>\n",
       "      <td>42.9</td>\n",
       "      <td>5900</td>\n",
       "      <td>22.40</td>\n",
       "      <td>60.1</td>\n",
       "      <td>6.16</td>\n",
       "      <td>3530</td>\n",
       "    </tr>\n",
       "    <tr>\n",
       "      <td>4</td>\n",
       "      <td>Antigua and Barbuda</td>\n",
       "      <td>10.3</td>\n",
       "      <td>45.5</td>\n",
       "      <td>6.03</td>\n",
       "      <td>58.9</td>\n",
       "      <td>19100</td>\n",
       "      <td>1.44</td>\n",
       "      <td>76.8</td>\n",
       "      <td>2.13</td>\n",
       "      <td>12200</td>\n",
       "    </tr>\n",
       "  </tbody>\n",
       "</table>\n",
       "</div>"
      ],
      "text/plain": [
       "               country  child_mort  exports  health  imports  income  \\\n",
       "0          Afghanistan        90.2     10.0    7.58     44.9    1610   \n",
       "1              Albania        16.6     28.0    6.55     48.6    9930   \n",
       "2              Algeria        27.3     38.4    4.17     31.4   12900   \n",
       "3               Angola       119.0     62.3    2.85     42.9    5900   \n",
       "4  Antigua and Barbuda        10.3     45.5    6.03     58.9   19100   \n",
       "\n",
       "   inflation  life_expec  total_fer   gdpp  \n",
       "0       9.44        56.2       5.82    553  \n",
       "1       4.49        76.3       1.65   4090  \n",
       "2      16.10        76.5       2.89   4460  \n",
       "3      22.40        60.1       6.16   3530  \n",
       "4       1.44        76.8       2.13  12200  "
      ]
     },
     "execution_count": 3,
     "metadata": {},
     "output_type": "execute_result"
    }
   ],
   "source": [
    "country_data = pd.read_csv(\"Country-data.csv\", encoding=\"unicode_escape\")\n",
    "country_data.head()"
   ]
  },
  {
   "cell_type": "markdown",
   "metadata": {},
   "source": [
    "#### Inspecting country_data dataframe (shape, info, describe etc.) "
   ]
  },
  {
   "cell_type": "code",
   "execution_count": 4,
   "metadata": {},
   "outputs": [
    {
     "data": {
      "text/plain": [
       "1670"
      ]
     },
     "execution_count": 4,
     "metadata": {},
     "output_type": "execute_result"
    }
   ],
   "source": [
    "country_data.size"
   ]
  },
  {
   "cell_type": "code",
   "execution_count": 5,
   "metadata": {},
   "outputs": [
    {
     "data": {
      "text/plain": [
       "(167, 10)"
      ]
     },
     "execution_count": 5,
     "metadata": {},
     "output_type": "execute_result"
    }
   ],
   "source": [
    "country_data.shape"
   ]
  },
  {
   "cell_type": "markdown",
   "metadata": {},
   "source": [
    "The data set has 167 rows and 10 columns"
   ]
  },
  {
   "cell_type": "code",
   "execution_count": 6,
   "metadata": {},
   "outputs": [
    {
     "name": "stdout",
     "output_type": "stream",
     "text": [
      "<class 'pandas.core.frame.DataFrame'>\n",
      "RangeIndex: 167 entries, 0 to 166\n",
      "Data columns (total 10 columns):\n",
      "country       167 non-null object\n",
      "child_mort    167 non-null float64\n",
      "exports       167 non-null float64\n",
      "health        167 non-null float64\n",
      "imports       167 non-null float64\n",
      "income        167 non-null int64\n",
      "inflation     167 non-null float64\n",
      "life_expec    167 non-null float64\n",
      "total_fer     167 non-null float64\n",
      "gdpp          167 non-null int64\n",
      "dtypes: float64(7), int64(2), object(1)\n",
      "memory usage: 13.2+ KB\n"
     ]
    }
   ],
   "source": [
    "country_data.info()"
   ]
  },
  {
   "cell_type": "markdown",
   "metadata": {},
   "source": [
    "- All the columns in the dataset are of numeric type, except for country\n",
    "- No converison of data type for any column is required"
   ]
  },
  {
   "cell_type": "markdown",
   "metadata": {},
   "source": [
    "#### All the columns in the dataset have 167 values. To conclude, there are no null values in the dataset"
   ]
  },
  {
   "cell_type": "code",
   "execution_count": 7,
   "metadata": {},
   "outputs": [
    {
     "data": {
      "text/html": [
       "<div>\n",
       "<style scoped>\n",
       "    .dataframe tbody tr th:only-of-type {\n",
       "        vertical-align: middle;\n",
       "    }\n",
       "\n",
       "    .dataframe tbody tr th {\n",
       "        vertical-align: top;\n",
       "    }\n",
       "\n",
       "    .dataframe thead th {\n",
       "        text-align: right;\n",
       "    }\n",
       "</style>\n",
       "<table border=\"1\" class=\"dataframe\">\n",
       "  <thead>\n",
       "    <tr style=\"text-align: right;\">\n",
       "      <th></th>\n",
       "      <th>child_mort</th>\n",
       "      <th>exports</th>\n",
       "      <th>health</th>\n",
       "      <th>imports</th>\n",
       "      <th>income</th>\n",
       "      <th>inflation</th>\n",
       "      <th>life_expec</th>\n",
       "      <th>total_fer</th>\n",
       "      <th>gdpp</th>\n",
       "    </tr>\n",
       "  </thead>\n",
       "  <tbody>\n",
       "    <tr>\n",
       "      <td>count</td>\n",
       "      <td>167.000000</td>\n",
       "      <td>167.000000</td>\n",
       "      <td>167.000000</td>\n",
       "      <td>167.000000</td>\n",
       "      <td>167.000000</td>\n",
       "      <td>167.000000</td>\n",
       "      <td>167.000000</td>\n",
       "      <td>167.000000</td>\n",
       "      <td>167.000000</td>\n",
       "    </tr>\n",
       "    <tr>\n",
       "      <td>mean</td>\n",
       "      <td>38.270060</td>\n",
       "      <td>41.108976</td>\n",
       "      <td>6.815689</td>\n",
       "      <td>46.890215</td>\n",
       "      <td>17144.688623</td>\n",
       "      <td>7.781832</td>\n",
       "      <td>70.555689</td>\n",
       "      <td>2.947964</td>\n",
       "      <td>12964.155689</td>\n",
       "    </tr>\n",
       "    <tr>\n",
       "      <td>std</td>\n",
       "      <td>40.328931</td>\n",
       "      <td>27.412010</td>\n",
       "      <td>2.746837</td>\n",
       "      <td>24.209589</td>\n",
       "      <td>19278.067698</td>\n",
       "      <td>10.570704</td>\n",
       "      <td>8.893172</td>\n",
       "      <td>1.513848</td>\n",
       "      <td>18328.704809</td>\n",
       "    </tr>\n",
       "    <tr>\n",
       "      <td>min</td>\n",
       "      <td>2.600000</td>\n",
       "      <td>0.109000</td>\n",
       "      <td>1.810000</td>\n",
       "      <td>0.065900</td>\n",
       "      <td>609.000000</td>\n",
       "      <td>-4.210000</td>\n",
       "      <td>32.100000</td>\n",
       "      <td>1.150000</td>\n",
       "      <td>231.000000</td>\n",
       "    </tr>\n",
       "    <tr>\n",
       "      <td>25%</td>\n",
       "      <td>8.250000</td>\n",
       "      <td>23.800000</td>\n",
       "      <td>4.920000</td>\n",
       "      <td>30.200000</td>\n",
       "      <td>3355.000000</td>\n",
       "      <td>1.810000</td>\n",
       "      <td>65.300000</td>\n",
       "      <td>1.795000</td>\n",
       "      <td>1330.000000</td>\n",
       "    </tr>\n",
       "    <tr>\n",
       "      <td>50%</td>\n",
       "      <td>19.300000</td>\n",
       "      <td>35.000000</td>\n",
       "      <td>6.320000</td>\n",
       "      <td>43.300000</td>\n",
       "      <td>9960.000000</td>\n",
       "      <td>5.390000</td>\n",
       "      <td>73.100000</td>\n",
       "      <td>2.410000</td>\n",
       "      <td>4660.000000</td>\n",
       "    </tr>\n",
       "    <tr>\n",
       "      <td>75%</td>\n",
       "      <td>62.100000</td>\n",
       "      <td>51.350000</td>\n",
       "      <td>8.600000</td>\n",
       "      <td>58.750000</td>\n",
       "      <td>22800.000000</td>\n",
       "      <td>10.750000</td>\n",
       "      <td>76.800000</td>\n",
       "      <td>3.880000</td>\n",
       "      <td>14050.000000</td>\n",
       "    </tr>\n",
       "    <tr>\n",
       "      <td>99%</td>\n",
       "      <td>153.400000</td>\n",
       "      <td>160.480000</td>\n",
       "      <td>13.474000</td>\n",
       "      <td>146.080000</td>\n",
       "      <td>84374.000000</td>\n",
       "      <td>41.478000</td>\n",
       "      <td>82.370000</td>\n",
       "      <td>6.563600</td>\n",
       "      <td>79088.000000</td>\n",
       "    </tr>\n",
       "    <tr>\n",
       "      <td>max</td>\n",
       "      <td>208.000000</td>\n",
       "      <td>200.000000</td>\n",
       "      <td>17.900000</td>\n",
       "      <td>174.000000</td>\n",
       "      <td>125000.000000</td>\n",
       "      <td>104.000000</td>\n",
       "      <td>82.800000</td>\n",
       "      <td>7.490000</td>\n",
       "      <td>105000.000000</td>\n",
       "    </tr>\n",
       "  </tbody>\n",
       "</table>\n",
       "</div>"
      ],
      "text/plain": [
       "       child_mort     exports      health     imports         income  \\\n",
       "count  167.000000  167.000000  167.000000  167.000000     167.000000   \n",
       "mean    38.270060   41.108976    6.815689   46.890215   17144.688623   \n",
       "std     40.328931   27.412010    2.746837   24.209589   19278.067698   \n",
       "min      2.600000    0.109000    1.810000    0.065900     609.000000   \n",
       "25%      8.250000   23.800000    4.920000   30.200000    3355.000000   \n",
       "50%     19.300000   35.000000    6.320000   43.300000    9960.000000   \n",
       "75%     62.100000   51.350000    8.600000   58.750000   22800.000000   \n",
       "99%    153.400000  160.480000   13.474000  146.080000   84374.000000   \n",
       "max    208.000000  200.000000   17.900000  174.000000  125000.000000   \n",
       "\n",
       "        inflation  life_expec   total_fer           gdpp  \n",
       "count  167.000000  167.000000  167.000000     167.000000  \n",
       "mean     7.781832   70.555689    2.947964   12964.155689  \n",
       "std     10.570704    8.893172    1.513848   18328.704809  \n",
       "min     -4.210000   32.100000    1.150000     231.000000  \n",
       "25%      1.810000   65.300000    1.795000    1330.000000  \n",
       "50%      5.390000   73.100000    2.410000    4660.000000  \n",
       "75%     10.750000   76.800000    3.880000   14050.000000  \n",
       "99%     41.478000   82.370000    6.563600   79088.000000  \n",
       "max    104.000000   82.800000    7.490000  105000.000000  "
      ]
     },
     "execution_count": 7,
     "metadata": {},
     "output_type": "execute_result"
    }
   ],
   "source": [
    "country_data.describe([.25, .5, .75, .99])"
   ]
  },
  {
   "cell_type": "markdown",
   "metadata": {},
   "source": [
    "#### Some columns have a significant gap between 99% and max, indicating presence of outliers."
   ]
  },
  {
   "cell_type": "markdown",
   "metadata": {},
   "source": [
    "### Inspecting the country_data dataframe. Calculating the null percentages in each column"
   ]
  },
  {
   "cell_type": "code",
   "execution_count": 8,
   "metadata": {
    "scrolled": true
   },
   "outputs": [
    {
     "data": {
      "text/plain": [
       "country       0.0\n",
       "child_mort    0.0\n",
       "exports       0.0\n",
       "health        0.0\n",
       "imports       0.0\n",
       "income        0.0\n",
       "inflation     0.0\n",
       "life_expec    0.0\n",
       "total_fer     0.0\n",
       "gdpp          0.0\n",
       "dtype: float64"
      ]
     },
     "execution_count": 8,
     "metadata": {},
     "output_type": "execute_result"
    }
   ],
   "source": [
    "round(100*(country_data.isnull().sum()/len(country_data.index)), 2)"
   ]
  },
  {
   "cell_type": "markdown",
   "metadata": {},
   "source": [
    "As observed earlier, none of the columns have any null values"
   ]
  },
  {
   "cell_type": "markdown",
   "metadata": {},
   "source": [
    "#### As mentioned in the data description, the columns exports, health and imports have been given as percentage of gdpp. We need the absolute values in each column, hence, converting these columns to their absolute values."
   ]
  },
  {
   "cell_type": "code",
   "execution_count": 9,
   "metadata": {},
   "outputs": [
    {
     "data": {
      "text/html": [
       "<div>\n",
       "<style scoped>\n",
       "    .dataframe tbody tr th:only-of-type {\n",
       "        vertical-align: middle;\n",
       "    }\n",
       "\n",
       "    .dataframe tbody tr th {\n",
       "        vertical-align: top;\n",
       "    }\n",
       "\n",
       "    .dataframe thead th {\n",
       "        text-align: right;\n",
       "    }\n",
       "</style>\n",
       "<table border=\"1\" class=\"dataframe\">\n",
       "  <thead>\n",
       "    <tr style=\"text-align: right;\">\n",
       "      <th></th>\n",
       "      <th>country</th>\n",
       "      <th>child_mort</th>\n",
       "      <th>exports</th>\n",
       "      <th>health</th>\n",
       "      <th>imports</th>\n",
       "      <th>income</th>\n",
       "      <th>inflation</th>\n",
       "      <th>life_expec</th>\n",
       "      <th>total_fer</th>\n",
       "      <th>gdpp</th>\n",
       "    </tr>\n",
       "  </thead>\n",
       "  <tbody>\n",
       "    <tr>\n",
       "      <td>0</td>\n",
       "      <td>Afghanistan</td>\n",
       "      <td>90.2</td>\n",
       "      <td>55.30</td>\n",
       "      <td>7.58</td>\n",
       "      <td>44.9</td>\n",
       "      <td>1610</td>\n",
       "      <td>9.44</td>\n",
       "      <td>56.2</td>\n",
       "      <td>5.82</td>\n",
       "      <td>553</td>\n",
       "    </tr>\n",
       "    <tr>\n",
       "      <td>1</td>\n",
       "      <td>Albania</td>\n",
       "      <td>16.6</td>\n",
       "      <td>1145.20</td>\n",
       "      <td>6.55</td>\n",
       "      <td>48.6</td>\n",
       "      <td>9930</td>\n",
       "      <td>4.49</td>\n",
       "      <td>76.3</td>\n",
       "      <td>1.65</td>\n",
       "      <td>4090</td>\n",
       "    </tr>\n",
       "    <tr>\n",
       "      <td>2</td>\n",
       "      <td>Algeria</td>\n",
       "      <td>27.3</td>\n",
       "      <td>1712.64</td>\n",
       "      <td>4.17</td>\n",
       "      <td>31.4</td>\n",
       "      <td>12900</td>\n",
       "      <td>16.10</td>\n",
       "      <td>76.5</td>\n",
       "      <td>2.89</td>\n",
       "      <td>4460</td>\n",
       "    </tr>\n",
       "    <tr>\n",
       "      <td>3</td>\n",
       "      <td>Angola</td>\n",
       "      <td>119.0</td>\n",
       "      <td>2199.19</td>\n",
       "      <td>2.85</td>\n",
       "      <td>42.9</td>\n",
       "      <td>5900</td>\n",
       "      <td>22.40</td>\n",
       "      <td>60.1</td>\n",
       "      <td>6.16</td>\n",
       "      <td>3530</td>\n",
       "    </tr>\n",
       "    <tr>\n",
       "      <td>4</td>\n",
       "      <td>Antigua and Barbuda</td>\n",
       "      <td>10.3</td>\n",
       "      <td>5551.00</td>\n",
       "      <td>6.03</td>\n",
       "      <td>58.9</td>\n",
       "      <td>19100</td>\n",
       "      <td>1.44</td>\n",
       "      <td>76.8</td>\n",
       "      <td>2.13</td>\n",
       "      <td>12200</td>\n",
       "    </tr>\n",
       "  </tbody>\n",
       "</table>\n",
       "</div>"
      ],
      "text/plain": [
       "               country  child_mort  exports  health  imports  income  \\\n",
       "0          Afghanistan        90.2    55.30    7.58     44.9    1610   \n",
       "1              Albania        16.6  1145.20    6.55     48.6    9930   \n",
       "2              Algeria        27.3  1712.64    4.17     31.4   12900   \n",
       "3               Angola       119.0  2199.19    2.85     42.9    5900   \n",
       "4  Antigua and Barbuda        10.3  5551.00    6.03     58.9   19100   \n",
       "\n",
       "   inflation  life_expec  total_fer   gdpp  \n",
       "0       9.44        56.2       5.82    553  \n",
       "1       4.49        76.3       1.65   4090  \n",
       "2      16.10        76.5       2.89   4460  \n",
       "3      22.40        60.1       6.16   3530  \n",
       "4       1.44        76.8       2.13  12200  "
      ]
     },
     "execution_count": 9,
     "metadata": {},
     "output_type": "execute_result"
    }
   ],
   "source": [
    "country_data['exports'] = country_data['exports'] * country_data['gdpp'] / 100\n",
    "country_data.head()"
   ]
  },
  {
   "cell_type": "code",
   "execution_count": 10,
   "metadata": {},
   "outputs": [
    {
     "data": {
      "text/html": [
       "<div>\n",
       "<style scoped>\n",
       "    .dataframe tbody tr th:only-of-type {\n",
       "        vertical-align: middle;\n",
       "    }\n",
       "\n",
       "    .dataframe tbody tr th {\n",
       "        vertical-align: top;\n",
       "    }\n",
       "\n",
       "    .dataframe thead th {\n",
       "        text-align: right;\n",
       "    }\n",
       "</style>\n",
       "<table border=\"1\" class=\"dataframe\">\n",
       "  <thead>\n",
       "    <tr style=\"text-align: right;\">\n",
       "      <th></th>\n",
       "      <th>country</th>\n",
       "      <th>child_mort</th>\n",
       "      <th>exports</th>\n",
       "      <th>health</th>\n",
       "      <th>imports</th>\n",
       "      <th>income</th>\n",
       "      <th>inflation</th>\n",
       "      <th>life_expec</th>\n",
       "      <th>total_fer</th>\n",
       "      <th>gdpp</th>\n",
       "    </tr>\n",
       "  </thead>\n",
       "  <tbody>\n",
       "    <tr>\n",
       "      <td>0</td>\n",
       "      <td>Afghanistan</td>\n",
       "      <td>90.2</td>\n",
       "      <td>55.30</td>\n",
       "      <td>41.9174</td>\n",
       "      <td>44.9</td>\n",
       "      <td>1610</td>\n",
       "      <td>9.44</td>\n",
       "      <td>56.2</td>\n",
       "      <td>5.82</td>\n",
       "      <td>553</td>\n",
       "    </tr>\n",
       "    <tr>\n",
       "      <td>1</td>\n",
       "      <td>Albania</td>\n",
       "      <td>16.6</td>\n",
       "      <td>1145.20</td>\n",
       "      <td>267.8950</td>\n",
       "      <td>48.6</td>\n",
       "      <td>9930</td>\n",
       "      <td>4.49</td>\n",
       "      <td>76.3</td>\n",
       "      <td>1.65</td>\n",
       "      <td>4090</td>\n",
       "    </tr>\n",
       "    <tr>\n",
       "      <td>2</td>\n",
       "      <td>Algeria</td>\n",
       "      <td>27.3</td>\n",
       "      <td>1712.64</td>\n",
       "      <td>185.9820</td>\n",
       "      <td>31.4</td>\n",
       "      <td>12900</td>\n",
       "      <td>16.10</td>\n",
       "      <td>76.5</td>\n",
       "      <td>2.89</td>\n",
       "      <td>4460</td>\n",
       "    </tr>\n",
       "    <tr>\n",
       "      <td>3</td>\n",
       "      <td>Angola</td>\n",
       "      <td>119.0</td>\n",
       "      <td>2199.19</td>\n",
       "      <td>100.6050</td>\n",
       "      <td>42.9</td>\n",
       "      <td>5900</td>\n",
       "      <td>22.40</td>\n",
       "      <td>60.1</td>\n",
       "      <td>6.16</td>\n",
       "      <td>3530</td>\n",
       "    </tr>\n",
       "    <tr>\n",
       "      <td>4</td>\n",
       "      <td>Antigua and Barbuda</td>\n",
       "      <td>10.3</td>\n",
       "      <td>5551.00</td>\n",
       "      <td>735.6600</td>\n",
       "      <td>58.9</td>\n",
       "      <td>19100</td>\n",
       "      <td>1.44</td>\n",
       "      <td>76.8</td>\n",
       "      <td>2.13</td>\n",
       "      <td>12200</td>\n",
       "    </tr>\n",
       "  </tbody>\n",
       "</table>\n",
       "</div>"
      ],
      "text/plain": [
       "               country  child_mort  exports    health  imports  income  \\\n",
       "0          Afghanistan        90.2    55.30   41.9174     44.9    1610   \n",
       "1              Albania        16.6  1145.20  267.8950     48.6    9930   \n",
       "2              Algeria        27.3  1712.64  185.9820     31.4   12900   \n",
       "3               Angola       119.0  2199.19  100.6050     42.9    5900   \n",
       "4  Antigua and Barbuda        10.3  5551.00  735.6600     58.9   19100   \n",
       "\n",
       "   inflation  life_expec  total_fer   gdpp  \n",
       "0       9.44        56.2       5.82    553  \n",
       "1       4.49        76.3       1.65   4090  \n",
       "2      16.10        76.5       2.89   4460  \n",
       "3      22.40        60.1       6.16   3530  \n",
       "4       1.44        76.8       2.13  12200  "
      ]
     },
     "execution_count": 10,
     "metadata": {},
     "output_type": "execute_result"
    }
   ],
   "source": [
    "country_data['health'] = country_data['health'] * country_data['gdpp'] / 100\n",
    "country_data.head()"
   ]
  },
  {
   "cell_type": "code",
   "execution_count": 11,
   "metadata": {},
   "outputs": [
    {
     "data": {
      "text/html": [
       "<div>\n",
       "<style scoped>\n",
       "    .dataframe tbody tr th:only-of-type {\n",
       "        vertical-align: middle;\n",
       "    }\n",
       "\n",
       "    .dataframe tbody tr th {\n",
       "        vertical-align: top;\n",
       "    }\n",
       "\n",
       "    .dataframe thead th {\n",
       "        text-align: right;\n",
       "    }\n",
       "</style>\n",
       "<table border=\"1\" class=\"dataframe\">\n",
       "  <thead>\n",
       "    <tr style=\"text-align: right;\">\n",
       "      <th></th>\n",
       "      <th>country</th>\n",
       "      <th>child_mort</th>\n",
       "      <th>exports</th>\n",
       "      <th>health</th>\n",
       "      <th>imports</th>\n",
       "      <th>income</th>\n",
       "      <th>inflation</th>\n",
       "      <th>life_expec</th>\n",
       "      <th>total_fer</th>\n",
       "      <th>gdpp</th>\n",
       "    </tr>\n",
       "  </thead>\n",
       "  <tbody>\n",
       "    <tr>\n",
       "      <td>0</td>\n",
       "      <td>Afghanistan</td>\n",
       "      <td>90.2</td>\n",
       "      <td>55.30</td>\n",
       "      <td>41.9174</td>\n",
       "      <td>248.297</td>\n",
       "      <td>1610</td>\n",
       "      <td>9.44</td>\n",
       "      <td>56.2</td>\n",
       "      <td>5.82</td>\n",
       "      <td>553</td>\n",
       "    </tr>\n",
       "    <tr>\n",
       "      <td>1</td>\n",
       "      <td>Albania</td>\n",
       "      <td>16.6</td>\n",
       "      <td>1145.20</td>\n",
       "      <td>267.8950</td>\n",
       "      <td>1987.740</td>\n",
       "      <td>9930</td>\n",
       "      <td>4.49</td>\n",
       "      <td>76.3</td>\n",
       "      <td>1.65</td>\n",
       "      <td>4090</td>\n",
       "    </tr>\n",
       "    <tr>\n",
       "      <td>2</td>\n",
       "      <td>Algeria</td>\n",
       "      <td>27.3</td>\n",
       "      <td>1712.64</td>\n",
       "      <td>185.9820</td>\n",
       "      <td>1400.440</td>\n",
       "      <td>12900</td>\n",
       "      <td>16.10</td>\n",
       "      <td>76.5</td>\n",
       "      <td>2.89</td>\n",
       "      <td>4460</td>\n",
       "    </tr>\n",
       "    <tr>\n",
       "      <td>3</td>\n",
       "      <td>Angola</td>\n",
       "      <td>119.0</td>\n",
       "      <td>2199.19</td>\n",
       "      <td>100.6050</td>\n",
       "      <td>1514.370</td>\n",
       "      <td>5900</td>\n",
       "      <td>22.40</td>\n",
       "      <td>60.1</td>\n",
       "      <td>6.16</td>\n",
       "      <td>3530</td>\n",
       "    </tr>\n",
       "    <tr>\n",
       "      <td>4</td>\n",
       "      <td>Antigua and Barbuda</td>\n",
       "      <td>10.3</td>\n",
       "      <td>5551.00</td>\n",
       "      <td>735.6600</td>\n",
       "      <td>7185.800</td>\n",
       "      <td>19100</td>\n",
       "      <td>1.44</td>\n",
       "      <td>76.8</td>\n",
       "      <td>2.13</td>\n",
       "      <td>12200</td>\n",
       "    </tr>\n",
       "  </tbody>\n",
       "</table>\n",
       "</div>"
      ],
      "text/plain": [
       "               country  child_mort  exports    health   imports  income  \\\n",
       "0          Afghanistan        90.2    55.30   41.9174   248.297    1610   \n",
       "1              Albania        16.6  1145.20  267.8950  1987.740    9930   \n",
       "2              Algeria        27.3  1712.64  185.9820  1400.440   12900   \n",
       "3               Angola       119.0  2199.19  100.6050  1514.370    5900   \n",
       "4  Antigua and Barbuda        10.3  5551.00  735.6600  7185.800   19100   \n",
       "\n",
       "   inflation  life_expec  total_fer   gdpp  \n",
       "0       9.44        56.2       5.82    553  \n",
       "1       4.49        76.3       1.65   4090  \n",
       "2      16.10        76.5       2.89   4460  \n",
       "3      22.40        60.1       6.16   3530  \n",
       "4       1.44        76.8       2.13  12200  "
      ]
     },
     "execution_count": 11,
     "metadata": {},
     "output_type": "execute_result"
    }
   ],
   "source": [
    "country_data['imports'] = country_data['imports'] * country_data['gdpp'] / 100\n",
    "country_data.head()"
   ]
  },
  {
   "cell_type": "markdown",
   "metadata": {},
   "source": [
    "## Exploratory Data Analysis"
   ]
  },
  {
   "cell_type": "code",
   "execution_count": 12,
   "metadata": {},
   "outputs": [
    {
     "data": {
      "image/png": "[encoded data removed]",
      "text/plain": [
       "<Figure size 1440x1440 with 9 Axes>"
      ]
     },
     "metadata": {
      "needs_background": "light"
     },
     "output_type": "display_data"
    }
   ],
   "source": [
    "cols = country_data.columns\n",
    "counter = 1\n",
    "fig=plt.figure(figsize=(20,20))\n",
    "plt.subplots_adjust(top = 0.50, bottom=0.01, hspace=0.5, wspace=0.3)\n",
    "columns = 3\n",
    "rows = 3\n",
    "for i in range(1, 10):\n",
    "    fig.add_subplot(rows, columns, i)\n",
    "    sns.boxplot(x=str(cols[counter]), data=country_data) \n",
    "    plt.xlabel(str(cols[counter]), fontsize=15)\n",
    "    counter += 1\n",
    "plt.show()"
   ]
  },
  {
   "cell_type": "markdown",
   "metadata": {},
   "source": [
    "### child_mort\n",
    "#### As observered from the boxplot, \n",
    "- there are some countries with very high child mortality rate, over 150\n",
    "- 75% of the countries have child mortality rate below 60"
   ]
  },
  {
   "cell_type": "markdown",
   "metadata": {},
   "source": [
    "### exports\n",
    "#### As observered from the boxplot, \n",
    "- Average of exports of goods and services per capita for all countries is 7420\n",
    "- The exports per capita ranges from 1 to 183750\n",
    "- Some countries have very high values of exports, above 64794\n",
    "- Exports have a very narrow IQR range"
   ]
  },
  {
   "cell_type": "markdown",
   "metadata": {},
   "source": [
    "### health\n",
    "#### As observered from the boxplot, \n",
    "- Average of Total health spending per capita for all countries is 1056\n",
    "- The health per capita ranges from 12 to 8663\n",
    "- Some countries have very high values of health expense, above 8410\n",
    "- Health have a narrow IQR range"
   ]
  },
  {
   "cell_type": "markdown",
   "metadata": {},
   "source": [
    "### imports\n",
    "#### As observered from the boxplot, \n",
    "- Average of Imports of goods and services per capita for all countries is 6588\n",
    "- The imports per capita ranges from 0 to 149100\n",
    "- Some countries have very high values of imports, above 55371\n",
    "- imports have a very narrow IQR range"
   ]
  },
  {
   "cell_type": "markdown",
   "metadata": {},
   "source": [
    "### income\n",
    "#### As observered from the boxplot, \n",
    "- Average of income per person for all countries is 17144\n",
    "- Some countries have very high values of income, above 50000"
   ]
  },
  {
   "cell_type": "markdown",
   "metadata": {},
   "source": [
    "### inflation\n",
    "#### As observered from the boxplot, \n",
    "- Average of inflation for all countries is around 5\n",
    "- The inflation ranges from -5 to 105\n",
    "- Some countries have high values of inflation, above 25"
   ]
  },
  {
   "cell_type": "markdown",
   "metadata": {},
   "source": [
    "### life_expec\n",
    "#### As observered from the boxplot, \n",
    "- Average of life_expec for all countries is around 72\n",
    "- The life_expec ranges from 32 to 83\n",
    "- Some countries have low values of life_expec, below 52"
   ]
  },
  {
   "cell_type": "markdown",
   "metadata": {},
   "source": [
    "### total_fer\n",
    "#### As observered from the boxplot, \n",
    "- Average of children that would be born to each woman for all countries is around 2\n",
    "- The total_fer ranges from 1 to 8\n",
    "- One countries has high values of total_fer, above 7"
   ]
  },
  {
   "cell_type": "markdown",
   "metadata": {},
   "source": [
    "### gdpp\n",
    "#### As observered from the boxplot, \n",
    "- Average of GDP per capita for all countries is around 12964\n",
    "- The gdpp ranges from 231 to 105000\n",
    "- Some countries have high values of gdpp, above 79088"
   ]
  },
  {
   "cell_type": "markdown",
   "metadata": {},
   "source": [
    "## Bi-variate analysis"
   ]
  },
  {
   "cell_type": "code",
   "execution_count": 13,
   "metadata": {},
   "outputs": [
    {
     "data": {
      "text/plain": [
       "<matplotlib.axes._subplots.AxesSubplot at 0x1a21072e10>"
      ]
     },
     "execution_count": 13,
     "metadata": {},
     "output_type": "execute_result"
    },
    {
     "data": {
      "image/png": "[encoded data removed]",
      "text/plain": [
       "<Figure size 432x288 with 1 Axes>"
      ]
     },
     "metadata": {
      "needs_background": "light"
     },
     "output_type": "display_data"
    }
   ],
   "source": [
    "#exports vs gdpp\n",
    "sns.scatterplot(x = 'exports', y = 'gdpp', legend = 'full', data = country_data, palette='Set1')"
   ]
  },
  {
   "cell_type": "markdown",
   "metadata": {},
   "source": [
    "#### As observed from plot,\n",
    "- There seem to be a linear positive relationship between exports and gdpp, which makes sense\n",
    "- There is one country which has very high exports and very high gdpp"
   ]
  },
  {
   "cell_type": "code",
   "execution_count": 14,
   "metadata": {},
   "outputs": [
    {
     "data": {
      "text/plain": [
       "<matplotlib.axes._subplots.AxesSubplot at 0x1a21439510>"
      ]
     },
     "execution_count": 14,
     "metadata": {},
     "output_type": "execute_result"
    },
    {
     "data": {
      "image/png": "[encoded data removed]",
      "text/plain": [
       "<Figure size 432x288 with 1 Axes>"
      ]
     },
     "metadata": {
      "needs_background": "light"
     },
     "output_type": "display_data"
    }
   ],
   "source": [
    "#child_mort vs life_expec\n",
    "sns.scatterplot(x = 'child_mort', y = 'life_expec', legend = 'full', data = country_data, palette='Set1')"
   ]
  },
  {
   "cell_type": "markdown",
   "metadata": {},
   "source": [
    "#### As observed from plot,\n",
    "- There seem to be a negative linear relationship between life_expec and child_mort, which is obvious, as child_mort increasess, life expentancey decreases\n",
    "- There is one country which has very high child_mort and very low life_expec"
   ]
  },
  {
   "cell_type": "code",
   "execution_count": 15,
   "metadata": {},
   "outputs": [
    {
     "data": {
      "text/plain": [
       "<matplotlib.axes._subplots.AxesSubplot at 0x1a21506810>"
      ]
     },
     "execution_count": 15,
     "metadata": {},
     "output_type": "execute_result"
    },
    {
     "data": {
      "image/png": "[encoded data removed]",
      "text/plain": [
       "<Figure size 432x288 with 1 Axes>"
      ]
     },
     "metadata": {
      "needs_background": "light"
     },
     "output_type": "display_data"
    }
   ],
   "source": [
    "#life_expec vs health\n",
    "sns.scatterplot(x = 'health', y = 'life_expec', legend = 'full', data = country_data, palette='Set1')"
   ]
  },
  {
   "cell_type": "markdown",
   "metadata": {},
   "source": [
    "#### As observed from plot,\n",
    "- There seem to be a non linear relationship between life_expec and health, with a slight increase in health, life_expec increases significantly"
   ]
  },
  {
   "cell_type": "code",
   "execution_count": 16,
   "metadata": {},
   "outputs": [
    {
     "data": {
      "text/plain": [
       "<matplotlib.axes._subplots.AxesSubplot at 0x1a215b25d0>"
      ]
     },
     "execution_count": 16,
     "metadata": {},
     "output_type": "execute_result"
    },
    {
     "data": {
      "image/png": "[encoded data removed]",
      "text/plain": [
       "<Figure size 432x288 with 1 Axes>"
      ]
     },
     "metadata": {
      "needs_background": "light"
     },
     "output_type": "display_data"
    }
   ],
   "source": [
    "#health vs gdpp\n",
    "sns.scatterplot(x = 'health', y = 'gdpp', legend = 'full', data = country_data, palette='Set1')"
   ]
  },
  {
   "cell_type": "markdown",
   "metadata": {},
   "source": [
    "#### As observed from plot,\n",
    "- There seem to be a somewhat positive linear relationship between health and gdpp, as health increases, gdpp also increases"
   ]
  },
  {
   "cell_type": "markdown",
   "metadata": {},
   "source": [
    "## Multi-variate analysis"
   ]
  },
  {
   "cell_type": "code",
   "execution_count": 17,
   "metadata": {},
   "outputs": [
    {
     "data": {
      "text/html": [
       "<div>\n",
       "<style scoped>\n",
       "    .dataframe tbody tr th:only-of-type {\n",
       "        vertical-align: middle;\n",
       "    }\n",
       "\n",
       "    .dataframe tbody tr th {\n",
       "        vertical-align: top;\n",
       "    }\n",
       "\n",
       "    .dataframe thead th {\n",
       "        text-align: right;\n",
       "    }\n",
       "</style>\n",
       "<table border=\"1\" class=\"dataframe\">\n",
       "  <thead>\n",
       "    <tr style=\"text-align: right;\">\n",
       "      <th></th>\n",
       "      <th>child_mort</th>\n",
       "      <th>exports</th>\n",
       "      <th>health</th>\n",
       "      <th>imports</th>\n",
       "      <th>income</th>\n",
       "      <th>inflation</th>\n",
       "      <th>life_expec</th>\n",
       "      <th>total_fer</th>\n",
       "      <th>gdpp</th>\n",
       "    </tr>\n",
       "  </thead>\n",
       "  <tbody>\n",
       "    <tr>\n",
       "      <td>child_mort</td>\n",
       "      <td>1.000</td>\n",
       "      <td>-0.297</td>\n",
       "      <td>-0.430</td>\n",
       "      <td>-0.319</td>\n",
       "      <td>-0.524</td>\n",
       "      <td>0.288</td>\n",
       "      <td>-0.887</td>\n",
       "      <td>0.848</td>\n",
       "      <td>-0.483</td>\n",
       "    </tr>\n",
       "    <tr>\n",
       "      <td>exports</td>\n",
       "      <td>-0.297</td>\n",
       "      <td>1.000</td>\n",
       "      <td>0.613</td>\n",
       "      <td>0.988</td>\n",
       "      <td>0.725</td>\n",
       "      <td>-0.142</td>\n",
       "      <td>0.378</td>\n",
       "      <td>-0.291</td>\n",
       "      <td>0.769</td>\n",
       "    </tr>\n",
       "    <tr>\n",
       "      <td>health</td>\n",
       "      <td>-0.430</td>\n",
       "      <td>0.613</td>\n",
       "      <td>1.000</td>\n",
       "      <td>0.639</td>\n",
       "      <td>0.691</td>\n",
       "      <td>-0.254</td>\n",
       "      <td>0.546</td>\n",
       "      <td>-0.408</td>\n",
       "      <td>0.917</td>\n",
       "    </tr>\n",
       "    <tr>\n",
       "      <td>imports</td>\n",
       "      <td>-0.319</td>\n",
       "      <td>0.988</td>\n",
       "      <td>0.639</td>\n",
       "      <td>1.000</td>\n",
       "      <td>0.672</td>\n",
       "      <td>-0.179</td>\n",
       "      <td>0.398</td>\n",
       "      <td>-0.317</td>\n",
       "      <td>0.755</td>\n",
       "    </tr>\n",
       "    <tr>\n",
       "      <td>income</td>\n",
       "      <td>-0.524</td>\n",
       "      <td>0.725</td>\n",
       "      <td>0.691</td>\n",
       "      <td>0.672</td>\n",
       "      <td>1.000</td>\n",
       "      <td>-0.148</td>\n",
       "      <td>0.612</td>\n",
       "      <td>-0.502</td>\n",
       "      <td>0.896</td>\n",
       "    </tr>\n",
       "    <tr>\n",
       "      <td>inflation</td>\n",
       "      <td>0.288</td>\n",
       "      <td>-0.142</td>\n",
       "      <td>-0.254</td>\n",
       "      <td>-0.179</td>\n",
       "      <td>-0.148</td>\n",
       "      <td>1.000</td>\n",
       "      <td>-0.240</td>\n",
       "      <td>0.317</td>\n",
       "      <td>-0.222</td>\n",
       "    </tr>\n",
       "    <tr>\n",
       "      <td>life_expec</td>\n",
       "      <td>-0.887</td>\n",
       "      <td>0.378</td>\n",
       "      <td>0.546</td>\n",
       "      <td>0.398</td>\n",
       "      <td>0.612</td>\n",
       "      <td>-0.240</td>\n",
       "      <td>1.000</td>\n",
       "      <td>-0.761</td>\n",
       "      <td>0.600</td>\n",
       "    </tr>\n",
       "    <tr>\n",
       "      <td>total_fer</td>\n",
       "      <td>0.848</td>\n",
       "      <td>-0.291</td>\n",
       "      <td>-0.408</td>\n",
       "      <td>-0.317</td>\n",
       "      <td>-0.502</td>\n",
       "      <td>0.317</td>\n",
       "      <td>-0.761</td>\n",
       "      <td>1.000</td>\n",
       "      <td>-0.455</td>\n",
       "    </tr>\n",
       "    <tr>\n",
       "      <td>gdpp</td>\n",
       "      <td>-0.483</td>\n",
       "      <td>0.769</td>\n",
       "      <td>0.917</td>\n",
       "      <td>0.755</td>\n",
       "      <td>0.896</td>\n",
       "      <td>-0.222</td>\n",
       "      <td>0.600</td>\n",
       "      <td>-0.455</td>\n",
       "      <td>1.000</td>\n",
       "    </tr>\n",
       "  </tbody>\n",
       "</table>\n",
       "</div>"
      ],
      "text/plain": [
       "            child_mort  exports  health  imports  income  inflation  \\\n",
       "child_mort       1.000   -0.297  -0.430   -0.319  -0.524      0.288   \n",
       "exports         -0.297    1.000   0.613    0.988   0.725     -0.142   \n",
       "health          -0.430    0.613   1.000    0.639   0.691     -0.254   \n",
       "imports         -0.319    0.988   0.639    1.000   0.672     -0.179   \n",
       "income          -0.524    0.725   0.691    0.672   1.000     -0.148   \n",
       "inflation        0.288   -0.142  -0.254   -0.179  -0.148      1.000   \n",
       "life_expec      -0.887    0.378   0.546    0.398   0.612     -0.240   \n",
       "total_fer        0.848   -0.291  -0.408   -0.317  -0.502      0.317   \n",
       "gdpp            -0.483    0.769   0.917    0.755   0.896     -0.222   \n",
       "\n",
       "            life_expec  total_fer   gdpp  \n",
       "child_mort      -0.887      0.848 -0.483  \n",
       "exports          0.378     -0.291  0.769  \n",
       "health           0.546     -0.408  0.917  \n",
       "imports          0.398     -0.317  0.755  \n",
       "income           0.612     -0.502  0.896  \n",
       "inflation       -0.240      0.317 -0.222  \n",
       "life_expec       1.000     -0.761  0.600  \n",
       "total_fer       -0.761      1.000 -0.455  \n",
       "gdpp             0.600     -0.455  1.000  "
      ]
     },
     "execution_count": 17,
     "metadata": {},
     "output_type": "execute_result"
    }
   ],
   "source": [
    "corr= round(country_data.drop('country', axis=1).corr(),3)\n",
    "corr"
   ]
  },
  {
   "cell_type": "code",
   "execution_count": 18,
   "metadata": {},
   "outputs": [
    {
     "data": {
      "image/png": "[encoded data removed]",
      "text/plain": [
       "<Figure size 720x720 with 2 Axes>"
      ]
     },
     "metadata": {
      "needs_background": "light"
     },
     "output_type": "display_data"
    }
   ],
   "source": [
    "plt.figure(figsize=(10,10))\n",
    "\n",
    "# heatmap\n",
    "sns.heatmap(corr, cmap=\"YlGnBu\", annot=True)\n",
    "plt.show()"
   ]
  },
  {
   "cell_type": "markdown",
   "metadata": {},
   "source": [
    "#### As observed from plot,\n",
    "- Some columns have a high correlation between them, greater than 0.7\n",
    "- total_fer and child_mort, total_fer and life_expec have high positive correlation"
   ]
  },
  {
   "cell_type": "markdown",
   "metadata": {},
   "source": [
    "## Outlier treatment\n",
    "#### Using inter quantile method"
   ]
  },
  {
   "cell_type": "code",
   "execution_count": 19,
   "metadata": {},
   "outputs": [],
   "source": [
    "def CapOutliers(ColName, LowerCap, UpperCap):\n",
    "    Q1 = country_data[ColName].quantile(LowerCap)\n",
    "    Q4 = country_data[ColName].quantile(UpperCap)\n",
    "    country_data[ColName][country_data[ColName] <= Q1] = Q1\n",
    "    country_data[ColName][country_data[ColName] >= Q4] = Q4"
   ]
  },
  {
   "cell_type": "code",
   "execution_count": 20,
   "metadata": {},
   "outputs": [],
   "source": [
    "CapOutliers('child_mort', 0.01, 0.99)\n",
    "CapOutliers('exports', 0.01, 0.99)\n",
    "CapOutliers('health', 0.01, 0.99)\n",
    "CapOutliers('imports', 0.01, 0.99)\n",
    "CapOutliers('income', 0.01, 0.99)\n",
    "CapOutliers('inflation', 0.01, 0.99)\n",
    "CapOutliers('life_expec', 0.01, 0.99)\n",
    "CapOutliers('total_fer', 0.01, 0.99)\n",
    "CapOutliers('gdpp', 0.01, 0.99)"
   ]
  },
  {
   "cell_type": "code",
   "execution_count": 21,
   "metadata": {},
   "outputs": [
    {
     "data": {
      "image/png": "[encoded data removed]",
      "text/plain": [
       "<Figure size 1440x1440 with 9 Axes>"
      ]
     },
     "metadata": {
      "needs_background": "light"
     },
     "output_type": "display_data"
    }
   ],
   "source": [
    "cols = country_data.columns\n",
    "counter = 1\n",
    "fig=plt.figure(figsize=(20,20))\n",
    "plt.subplots_adjust(top = 0.50, bottom=0.01, hspace=0.5, wspace=0.3)\n",
    "columns = 3\n",
    "rows = 3\n",
    "for i in range(1, 10):\n",
    "    fig.add_subplot(rows, columns, i)\n",
    "    sns.boxplot(x=str(cols[counter]), data=country_data) \n",
    "    plt.xlabel(str(cols[counter]), fontsize=15)\n",
    "    counter += 1\n",
    "plt.show()"
   ]
  },
  {
   "cell_type": "markdown",
   "metadata": {},
   "source": [
    "## Hopkins Statistics:\n",
    "The Hopkins statistic, is a statistic which gives a value which indicates the cluster tendency, in other words: how well the data can be clustered.\n",
    "\n",
    "- If the value is between {0.01, ...,0.3}, the data is regularly spaced.\n",
    "\n",
    "- If the value is around 0.5, it is random.\n",
    "\n",
    "- If the value is between {0.7, ..., 0.99}, it has a high tendency to cluster."
   ]
  },
  {
   "cell_type": "code",
   "execution_count": 22,
   "metadata": {},
   "outputs": [],
   "source": [
    "from sklearn.neighbors import NearestNeighbors\n",
    "from random import sample\n",
    "from numpy.random import uniform\n",
    "from math import isnan\n",
    " \n",
    "def hopkins(X):\n",
    "    d = X.shape[1]\n",
    "    n = len(X) # rows\n",
    "    m = int(0.1 * n) \n",
    "    nbrs = NearestNeighbors(n_neighbors=1).fit(X.values)\n",
    " \n",
    "    rand_X = sample(range(0, n, 1), m)\n",
    " \n",
    "    ujd = []\n",
    "    wjd = []\n",
    "    for j in range(0, m):\n",
    "        u_dist, _ = nbrs.kneighbors(uniform(np.amin(X,axis=0),np.amax(X,axis=0),d).reshape(1, -1), 2, return_distance=True)\n",
    "        ujd.append(u_dist[0][1])\n",
    "        w_dist, _ = nbrs.kneighbors(X.iloc[rand_X[j]].values.reshape(1, -1), 2, return_distance=True)\n",
    "        wjd.append(w_dist[0][1])\n",
    " \n",
    "    H = sum(ujd) / (sum(ujd) + sum(wjd))\n",
    "    if isnan(H):\n",
    "        print(ujd, wjd)\n",
    "        H = 0\n",
    " \n",
    "    return H"
   ]
  },
  {
   "cell_type": "code",
   "execution_count": 23,
   "metadata": {},
   "outputs": [
    {
     "data": {
      "text/plain": [
       "0.939965533984905"
      ]
     },
     "execution_count": 23,
     "metadata": {},
     "output_type": "execute_result"
    }
   ],
   "source": [
    "#Use the Hopkins Statistic function by passing the above dataframe as a paramter\n",
    "hopkins(country_data.drop('country', axis =1))"
   ]
  },
  {
   "cell_type": "markdown",
   "metadata": {},
   "source": [
    "#### Since the Hopkins score is higher than 90%, we can perform clustering"
   ]
  },
  {
   "cell_type": "markdown",
   "metadata": {},
   "source": [
    "## Scaling using Standard scaler"
   ]
  },
  {
   "cell_type": "code",
   "execution_count": 24,
   "metadata": {},
   "outputs": [
    {
     "data": {
      "text/html": [
       "<div>\n",
       "<style scoped>\n",
       "    .dataframe tbody tr th:only-of-type {\n",
       "        vertical-align: middle;\n",
       "    }\n",
       "\n",
       "    .dataframe tbody tr th {\n",
       "        vertical-align: top;\n",
       "    }\n",
       "\n",
       "    .dataframe thead th {\n",
       "        text-align: right;\n",
       "    }\n",
       "</style>\n",
       "<table border=\"1\" class=\"dataframe\">\n",
       "  <thead>\n",
       "    <tr style=\"text-align: right;\">\n",
       "      <th></th>\n",
       "      <th>child_mort</th>\n",
       "      <th>exports</th>\n",
       "      <th>health</th>\n",
       "      <th>imports</th>\n",
       "      <th>income</th>\n",
       "      <th>inflation</th>\n",
       "      <th>life_expec</th>\n",
       "      <th>total_fer</th>\n",
       "      <th>gdpp</th>\n",
       "    </tr>\n",
       "  </thead>\n",
       "  <tbody>\n",
       "    <tr>\n",
       "      <td>0</td>\n",
       "      <td>90.2</td>\n",
       "      <td>55.30</td>\n",
       "      <td>41.9174</td>\n",
       "      <td>248.297</td>\n",
       "      <td>1610.0</td>\n",
       "      <td>9.44</td>\n",
       "      <td>56.2</td>\n",
       "      <td>5.82</td>\n",
       "      <td>553.0</td>\n",
       "    </tr>\n",
       "    <tr>\n",
       "      <td>1</td>\n",
       "      <td>16.6</td>\n",
       "      <td>1145.20</td>\n",
       "      <td>267.8950</td>\n",
       "      <td>1987.740</td>\n",
       "      <td>9930.0</td>\n",
       "      <td>4.49</td>\n",
       "      <td>76.3</td>\n",
       "      <td>1.65</td>\n",
       "      <td>4090.0</td>\n",
       "    </tr>\n",
       "    <tr>\n",
       "      <td>2</td>\n",
       "      <td>27.3</td>\n",
       "      <td>1712.64</td>\n",
       "      <td>185.9820</td>\n",
       "      <td>1400.440</td>\n",
       "      <td>12900.0</td>\n",
       "      <td>16.10</td>\n",
       "      <td>76.5</td>\n",
       "      <td>2.89</td>\n",
       "      <td>4460.0</td>\n",
       "    </tr>\n",
       "    <tr>\n",
       "      <td>3</td>\n",
       "      <td>119.0</td>\n",
       "      <td>2199.19</td>\n",
       "      <td>100.6050</td>\n",
       "      <td>1514.370</td>\n",
       "      <td>5900.0</td>\n",
       "      <td>22.40</td>\n",
       "      <td>60.1</td>\n",
       "      <td>6.16</td>\n",
       "      <td>3530.0</td>\n",
       "    </tr>\n",
       "    <tr>\n",
       "      <td>4</td>\n",
       "      <td>10.3</td>\n",
       "      <td>5551.00</td>\n",
       "      <td>735.6600</td>\n",
       "      <td>7185.800</td>\n",
       "      <td>19100.0</td>\n",
       "      <td>1.44</td>\n",
       "      <td>76.8</td>\n",
       "      <td>2.13</td>\n",
       "      <td>12200.0</td>\n",
       "    </tr>\n",
       "  </tbody>\n",
       "</table>\n",
       "</div>"
      ],
      "text/plain": [
       "   child_mort  exports    health   imports   income  inflation  life_expec  \\\n",
       "0        90.2    55.30   41.9174   248.297   1610.0       9.44        56.2   \n",
       "1        16.6  1145.20  267.8950  1987.740   9930.0       4.49        76.3   \n",
       "2        27.3  1712.64  185.9820  1400.440  12900.0      16.10        76.5   \n",
       "3       119.0  2199.19  100.6050  1514.370   5900.0      22.40        60.1   \n",
       "4        10.3  5551.00  735.6600  7185.800  19100.0       1.44        76.8   \n",
       "\n",
       "   total_fer     gdpp  \n",
       "0       5.82    553.0  \n",
       "1       1.65   4090.0  \n",
       "2       2.89   4460.0  \n",
       "3       6.16   3530.0  \n",
       "4       2.13  12200.0  "
      ]
     },
     "execution_count": 24,
     "metadata": {},
     "output_type": "execute_result"
    }
   ],
   "source": [
    "num_country_data = country_data.drop(['country'], axis = 1)\n",
    "\n",
    "num_country_data.head()"
   ]
  },
  {
   "cell_type": "code",
   "execution_count": 25,
   "metadata": {},
   "outputs": [],
   "source": [
    "from sklearn.preprocessing import StandardScaler"
   ]
  },
  {
   "cell_type": "code",
   "execution_count": 26,
   "metadata": {},
   "outputs": [
    {
     "data": {
      "text/plain": [
       "array([[ 1.34401227, -0.56963804, -0.56698288, ..., -1.69379898,\n",
       "         1.92692802, -0.70231404],\n",
       "       [-0.54754345, -0.47387318, -0.44041711, ...,  0.66305283,\n",
       "        -0.86591134, -0.49877488],\n",
       "       [-0.27254826, -0.42401465, -0.48629503, ...,  0.68650409,\n",
       "        -0.03542674, -0.47748297],\n",
       "       ...,\n",
       "       [-0.3753502 , -0.49162206, -0.54027452, ...,  0.28783264,\n",
       "        -0.66498765, -0.65875194],\n",
       "       [ 0.47276581, -0.53996578, -0.55245405, ..., -0.36880269,\n",
       "         1.15672052, -0.65875194],\n",
       "       [ 1.16153882, -0.52703195, -0.54229642, ..., -2.18627548,\n",
       "         1.64563484, -0.65012008]])"
      ]
     },
     "execution_count": 26,
     "metadata": {},
     "output_type": "execute_result"
    }
   ],
   "source": [
    "#instantiate scaler\n",
    "scaler = StandardScaler()\n",
    "\n",
    "#fit_transform\n",
    "num_country_data_scaled = scaler.fit_transform(num_country_data)\n",
    "num_country_data_scaled"
   ]
  },
  {
   "cell_type": "code",
   "execution_count": 27,
   "metadata": {},
   "outputs": [
    {
     "data": {
      "text/html": [
       "<div>\n",
       "<style scoped>\n",
       "    .dataframe tbody tr th:only-of-type {\n",
       "        vertical-align: middle;\n",
       "    }\n",
       "\n",
       "    .dataframe tbody tr th {\n",
       "        vertical-align: top;\n",
       "    }\n",
       "\n",
       "    .dataframe thead th {\n",
       "        text-align: right;\n",
       "    }\n",
       "</style>\n",
       "<table border=\"1\" class=\"dataframe\">\n",
       "  <thead>\n",
       "    <tr style=\"text-align: right;\">\n",
       "      <th></th>\n",
       "      <th>child_mort</th>\n",
       "      <th>exports</th>\n",
       "      <th>health</th>\n",
       "      <th>imports</th>\n",
       "      <th>income</th>\n",
       "      <th>inflation</th>\n",
       "      <th>life_expec</th>\n",
       "      <th>total_fer</th>\n",
       "      <th>gdpp</th>\n",
       "    </tr>\n",
       "  </thead>\n",
       "  <tbody>\n",
       "    <tr>\n",
       "      <td>0</td>\n",
       "      <td>1.344012</td>\n",
       "      <td>-0.569638</td>\n",
       "      <td>-0.566983</td>\n",
       "      <td>-0.598844</td>\n",
       "      <td>-0.851772</td>\n",
       "      <td>0.263649</td>\n",
       "      <td>-1.693799</td>\n",
       "      <td>1.926928</td>\n",
       "      <td>-0.702314</td>\n",
       "    </tr>\n",
       "    <tr>\n",
       "      <td>1</td>\n",
       "      <td>-0.547543</td>\n",
       "      <td>-0.473873</td>\n",
       "      <td>-0.440417</td>\n",
       "      <td>-0.413679</td>\n",
       "      <td>-0.387025</td>\n",
       "      <td>-0.375251</td>\n",
       "      <td>0.663053</td>\n",
       "      <td>-0.865911</td>\n",
       "      <td>-0.498775</td>\n",
       "    </tr>\n",
       "    <tr>\n",
       "      <td>2</td>\n",
       "      <td>-0.272548</td>\n",
       "      <td>-0.424015</td>\n",
       "      <td>-0.486295</td>\n",
       "      <td>-0.476198</td>\n",
       "      <td>-0.221124</td>\n",
       "      <td>1.123260</td>\n",
       "      <td>0.686504</td>\n",
       "      <td>-0.035427</td>\n",
       "      <td>-0.477483</td>\n",
       "    </tr>\n",
       "    <tr>\n",
       "      <td>3</td>\n",
       "      <td>2.084186</td>\n",
       "      <td>-0.381264</td>\n",
       "      <td>-0.534113</td>\n",
       "      <td>-0.464070</td>\n",
       "      <td>-0.612136</td>\n",
       "      <td>1.936405</td>\n",
       "      <td>-1.236499</td>\n",
       "      <td>2.154642</td>\n",
       "      <td>-0.531000</td>\n",
       "    </tr>\n",
       "    <tr>\n",
       "      <td>4</td>\n",
       "      <td>-0.709457</td>\n",
       "      <td>-0.086754</td>\n",
       "      <td>-0.178431</td>\n",
       "      <td>0.139659</td>\n",
       "      <td>0.125202</td>\n",
       "      <td>-0.768917</td>\n",
       "      <td>0.721681</td>\n",
       "      <td>-0.544433</td>\n",
       "      <td>-0.032079</td>\n",
       "    </tr>\n",
       "  </tbody>\n",
       "</table>\n",
       "</div>"
      ],
      "text/plain": [
       "   child_mort   exports    health   imports    income  inflation  life_expec  \\\n",
       "0    1.344012 -0.569638 -0.566983 -0.598844 -0.851772   0.263649   -1.693799   \n",
       "1   -0.547543 -0.473873 -0.440417 -0.413679 -0.387025  -0.375251    0.663053   \n",
       "2   -0.272548 -0.424015 -0.486295 -0.476198 -0.221124   1.123260    0.686504   \n",
       "3    2.084186 -0.381264 -0.534113 -0.464070 -0.612136   1.936405   -1.236499   \n",
       "4   -0.709457 -0.086754 -0.178431  0.139659  0.125202  -0.768917    0.721681   \n",
       "\n",
       "   total_fer      gdpp  \n",
       "0   1.926928 -0.702314  \n",
       "1  -0.865911 -0.498775  \n",
       "2  -0.035427 -0.477483  \n",
       "3   2.154642 -0.531000  \n",
       "4  -0.544433 -0.032079  "
      ]
     },
     "execution_count": 27,
     "metadata": {},
     "output_type": "execute_result"
    }
   ],
   "source": [
    "country_data_scaled = pd.DataFrame(num_country_data_scaled)\n",
    "country_data_scaled.columns = [col for col in num_country_data.columns]\n",
    "country_data_scaled.head()"
   ]
  },
  {
   "cell_type": "markdown",
   "metadata": {},
   "source": [
    "# K-means clustering"
   ]
  },
  {
   "cell_type": "code",
   "execution_count": 28,
   "metadata": {},
   "outputs": [
    {
     "data": {
      "image/png": "[encoded data removed]",
      "text/plain": [
       "<Figure size 432x288 with 1 Axes>"
      ]
     },
     "metadata": {
      "needs_background": "light"
     },
     "output_type": "display_data"
    }
   ],
   "source": [
    "#silhouette_score analysis\n",
    "from sklearn.metrics import silhouette_score\n",
    "scores = []\n",
    "for k in range(2,10):\n",
    "    kmeans = KMeans(n_clusters = k).fit(country_data_scaled)\n",
    "    scores.append([k, silhouette_score(country_data_scaled, kmeans.labels_)])\n",
    "    \n",
    "plt.plot(pd.DataFrame(scores)[0], pd.DataFrame(scores)[1]);"
   ]
  },
  {
   "cell_type": "code",
   "execution_count": 29,
   "metadata": {},
   "outputs": [
    {
     "data": {
      "image/png": "[encoded data removed]",
      "text/plain": [
       "<Figure size 432x288 with 1 Axes>"
      ]
     },
     "metadata": {
      "needs_background": "light"
     },
     "output_type": "display_data"
    }
   ],
   "source": [
    "#elbow curve analysis\n",
    "elbow_score = []\n",
    "for k in list(range(2,10)):\n",
    "    model = KMeans(n_clusters = k, max_iter = 50).fit(country_data_scaled)\n",
    "    elbow_score.append([k, model.inertia_])\n",
    "    \n",
    "plt.plot(pd.DataFrame(elbow_score)[0], pd.DataFrame(elbow_score)[1]);"
   ]
  },
  {
   "cell_type": "markdown",
   "metadata": {},
   "source": [
    "### From the above plots of elbow curve and silhouette score, we choose k = 3"
   ]
  },
  {
   "cell_type": "code",
   "execution_count": 30,
   "metadata": {},
   "outputs": [
    {
     "data": {
      "text/plain": [
       "KMeans(algorithm='auto', copy_x=True, init='k-means++', max_iter=50,\n",
       "       n_clusters=3, n_init=10, n_jobs=None, precompute_distances='auto',\n",
       "       random_state=50, tol=0.0001, verbose=0)"
      ]
     },
     "execution_count": 30,
     "metadata": {},
     "output_type": "execute_result"
    }
   ],
   "source": [
    "#perform K means using K=3\n",
    "kmean = KMeans(n_clusters = 3, max_iter = 50, random_state = 50)\n",
    "kmean.fit(country_data_scaled)"
   ]
  },
  {
   "cell_type": "code",
   "execution_count": 31,
   "metadata": {},
   "outputs": [
    {
     "data": {
      "text/html": [
       "<div>\n",
       "<style scoped>\n",
       "    .dataframe tbody tr th:only-of-type {\n",
       "        vertical-align: middle;\n",
       "    }\n",
       "\n",
       "    .dataframe tbody tr th {\n",
       "        vertical-align: top;\n",
       "    }\n",
       "\n",
       "    .dataframe thead th {\n",
       "        text-align: right;\n",
       "    }\n",
       "</style>\n",
       "<table border=\"1\" class=\"dataframe\">\n",
       "  <thead>\n",
       "    <tr style=\"text-align: right;\">\n",
       "      <th></th>\n",
       "      <th>country</th>\n",
       "      <th>child_mort</th>\n",
       "      <th>exports</th>\n",
       "      <th>health</th>\n",
       "      <th>imports</th>\n",
       "      <th>income</th>\n",
       "      <th>inflation</th>\n",
       "      <th>life_expec</th>\n",
       "      <th>total_fer</th>\n",
       "      <th>gdpp</th>\n",
       "      <th>cluster_id</th>\n",
       "    </tr>\n",
       "  </thead>\n",
       "  <tbody>\n",
       "    <tr>\n",
       "      <td>0</td>\n",
       "      <td>Afghanistan</td>\n",
       "      <td>90.2</td>\n",
       "      <td>55.30</td>\n",
       "      <td>41.9174</td>\n",
       "      <td>248.297</td>\n",
       "      <td>1610.0</td>\n",
       "      <td>9.44</td>\n",
       "      <td>56.2</td>\n",
       "      <td>5.82</td>\n",
       "      <td>553.0</td>\n",
       "      <td>1</td>\n",
       "    </tr>\n",
       "    <tr>\n",
       "      <td>1</td>\n",
       "      <td>Albania</td>\n",
       "      <td>16.6</td>\n",
       "      <td>1145.20</td>\n",
       "      <td>267.8950</td>\n",
       "      <td>1987.740</td>\n",
       "      <td>9930.0</td>\n",
       "      <td>4.49</td>\n",
       "      <td>76.3</td>\n",
       "      <td>1.65</td>\n",
       "      <td>4090.0</td>\n",
       "      <td>2</td>\n",
       "    </tr>\n",
       "    <tr>\n",
       "      <td>2</td>\n",
       "      <td>Algeria</td>\n",
       "      <td>27.3</td>\n",
       "      <td>1712.64</td>\n",
       "      <td>185.9820</td>\n",
       "      <td>1400.440</td>\n",
       "      <td>12900.0</td>\n",
       "      <td>16.10</td>\n",
       "      <td>76.5</td>\n",
       "      <td>2.89</td>\n",
       "      <td>4460.0</td>\n",
       "      <td>2</td>\n",
       "    </tr>\n",
       "    <tr>\n",
       "      <td>3</td>\n",
       "      <td>Angola</td>\n",
       "      <td>119.0</td>\n",
       "      <td>2199.19</td>\n",
       "      <td>100.6050</td>\n",
       "      <td>1514.370</td>\n",
       "      <td>5900.0</td>\n",
       "      <td>22.40</td>\n",
       "      <td>60.1</td>\n",
       "      <td>6.16</td>\n",
       "      <td>3530.0</td>\n",
       "      <td>1</td>\n",
       "    </tr>\n",
       "    <tr>\n",
       "      <td>4</td>\n",
       "      <td>Antigua and Barbuda</td>\n",
       "      <td>10.3</td>\n",
       "      <td>5551.00</td>\n",
       "      <td>735.6600</td>\n",
       "      <td>7185.800</td>\n",
       "      <td>19100.0</td>\n",
       "      <td>1.44</td>\n",
       "      <td>76.8</td>\n",
       "      <td>2.13</td>\n",
       "      <td>12200.0</td>\n",
       "      <td>2</td>\n",
       "    </tr>\n",
       "  </tbody>\n",
       "</table>\n",
       "</div>"
      ],
      "text/plain": [
       "               country  child_mort  exports    health   imports   income  \\\n",
       "0          Afghanistan        90.2    55.30   41.9174   248.297   1610.0   \n",
       "1              Albania        16.6  1145.20  267.8950  1987.740   9930.0   \n",
       "2              Algeria        27.3  1712.64  185.9820  1400.440  12900.0   \n",
       "3               Angola       119.0  2199.19  100.6050  1514.370   5900.0   \n",
       "4  Antigua and Barbuda        10.3  5551.00  735.6600  7185.800  19100.0   \n",
       "\n",
       "   inflation  life_expec  total_fer     gdpp  cluster_id  \n",
       "0       9.44        56.2       5.82    553.0           1  \n",
       "1       4.49        76.3       1.65   4090.0           2  \n",
       "2      16.10        76.5       2.89   4460.0           2  \n",
       "3      22.40        60.1       6.16   3530.0           1  \n",
       "4       1.44        76.8       2.13  12200.0           2  "
      ]
     },
     "execution_count": 31,
     "metadata": {},
     "output_type": "execute_result"
    }
   ],
   "source": [
    "kmean_prediction = country_data.copy()\n",
    "\n",
    "#adding cluster id to this copy of original data\n",
    "kmean_prediction['cluster_id']=kmean.labels_\n",
    "\n",
    "kmean_prediction.head()"
   ]
  },
  {
   "cell_type": "code",
   "execution_count": 32,
   "metadata": {},
   "outputs": [
    {
     "data": {
      "text/plain": [
       "2    90\n",
       "1    48\n",
       "0    29\n",
       "Name: cluster_id, dtype: int64"
      ]
     },
     "execution_count": 32,
     "metadata": {},
     "output_type": "execute_result"
    }
   ],
   "source": [
    "kmean_prediction['cluster_id'].value_counts()"
   ]
  },
  {
   "cell_type": "markdown",
   "metadata": {},
   "source": [
    "### Visualising the clusters\n",
    "\n",
    "#### using child_mort, income and gdpp"
   ]
  },
  {
   "cell_type": "code",
   "execution_count": 33,
   "metadata": {},
   "outputs": [
    {
     "data": {
      "image/png": "[encoded data removed]",
      "text/plain": [
       "<Figure size 720x504 with 1 Axes>"
      ]
     },
     "metadata": {
      "needs_background": "light"
     },
     "output_type": "display_data"
    }
   ],
   "source": [
    "plt.figure(figsize=[10,7])\n",
    "sns.scatterplot(x = 'child_mort', y = 'income', size = 'gdpp', hue = 'cluster_id', data = kmean_prediction)\n",
    "plt.show()"
   ]
  },
  {
   "cell_type": "markdown",
   "metadata": {},
   "source": [
    "### From the above plot, it is evident that,\n",
    "- cluster 0: High gdpp, High income, low child_mort\n",
    "- cluster 1: Low gdpp, Low income, high child_mort\n",
    "- cluster 2: Medium gdpp, Medium income, low child_mort"
   ]
  },
  {
   "cell_type": "markdown",
   "metadata": {},
   "source": [
    "### Cluster profiling\n",
    "\n",
    "#### using child_mort, income and gdpp"
   ]
  },
  {
   "cell_type": "code",
   "execution_count": 34,
   "metadata": {},
   "outputs": [
    {
     "data": {
      "text/html": [
       "<div>\n",
       "<style scoped>\n",
       "    .dataframe tbody tr th:only-of-type {\n",
       "        vertical-align: middle;\n",
       "    }\n",
       "\n",
       "    .dataframe tbody tr th {\n",
       "        vertical-align: top;\n",
       "    }\n",
       "\n",
       "    .dataframe thead th {\n",
       "        text-align: right;\n",
       "    }\n",
       "</style>\n",
       "<table border=\"1\" class=\"dataframe\">\n",
       "  <thead>\n",
       "    <tr style=\"text-align: right;\">\n",
       "      <th></th>\n",
       "      <th>child_mort</th>\n",
       "      <th>income</th>\n",
       "      <th>gdpp</th>\n",
       "    </tr>\n",
       "    <tr>\n",
       "      <th>cluster_id</th>\n",
       "      <th></th>\n",
       "      <th></th>\n",
       "      <th></th>\n",
       "    </tr>\n",
       "  </thead>\n",
       "  <tbody>\n",
       "    <tr>\n",
       "      <td>0</td>\n",
       "      <td>4.989655</td>\n",
       "      <td>47784.413793</td>\n",
       "      <td>46068.137931</td>\n",
       "    </tr>\n",
       "    <tr>\n",
       "      <td>1</td>\n",
       "      <td>90.335417</td>\n",
       "      <td>3901.010000</td>\n",
       "      <td>1911.400833</td>\n",
       "    </tr>\n",
       "    <tr>\n",
       "      <td>2</td>\n",
       "      <td>20.547778</td>\n",
       "      <td>13804.333333</td>\n",
       "      <td>7808.577778</td>\n",
       "    </tr>\n",
       "  </tbody>\n",
       "</table>\n",
       "</div>"
      ],
      "text/plain": [
       "            child_mort        income          gdpp\n",
       "cluster_id                                        \n",
       "0             4.989655  47784.413793  46068.137931\n",
       "1            90.335417   3901.010000   1911.400833\n",
       "2            20.547778  13804.333333   7808.577778"
      ]
     },
     "execution_count": 34,
     "metadata": {},
     "output_type": "execute_result"
    }
   ],
   "source": [
    "kmean_prediction[['child_mort', 'income', 'gdpp', 'cluster_id']].groupby('cluster_id').mean()"
   ]
  },
  {
   "cell_type": "code",
   "execution_count": 35,
   "metadata": {},
   "outputs": [
    {
     "data": {
      "text/plain": [
       "<matplotlib.axes._subplots.AxesSubplot at 0x1a207b2150>"
      ]
     },
     "execution_count": 35,
     "metadata": {},
     "output_type": "execute_result"
    },
    {
     "data": {
      "image/png": "[encoded data removed]",
      "text/plain": [
       "<Figure size 432x288 with 1 Axes>"
      ]
     },
     "metadata": {
      "needs_background": "light"
     },
     "output_type": "display_data"
    }
   ],
   "source": [
    "kmean_prediction[['child_mort', 'income', 'gdpp', 'cluster_id']].groupby('cluster_id').mean().plot(kind = 'bar')"
   ]
  },
  {
   "cell_type": "code",
   "execution_count": 36,
   "metadata": {},
   "outputs": [
    {
     "data": {
      "text/plain": [
       "<matplotlib.axes._subplots.AxesSubplot at 0x1a21f64550>"
      ]
     },
     "execution_count": 36,
     "metadata": {},
     "output_type": "execute_result"
    },
    {
     "data": {
      "image/png": "[encoded data removed]",
      "text/plain": [
       "<Figure size 432x288 with 1 Axes>"
      ]
     },
     "metadata": {
      "needs_background": "light"
     },
     "output_type": "display_data"
    }
   ],
   "source": [
    "sns.boxplot(x = 'cluster_id', y='child_mort', data=kmean_prediction)"
   ]
  },
  {
   "cell_type": "markdown",
   "metadata": {},
   "source": [
    "### From the above plots, we confirm that that,\n",
    "- cluster 0: High gdpp, High income, low child_mort\n",
    "- cluster 1: Low gdpp, Low income, high child_mort\n",
    "- cluster 2: Medium gdpp, Medium income, low child_mort"
   ]
  },
  {
   "cell_type": "markdown",
   "metadata": {},
   "source": [
    "### Since cluster 1 countries have low income, low gdpp and high child_mort, they require urgent financial help"
   ]
  },
  {
   "cell_type": "markdown",
   "metadata": {},
   "source": [
    "#### sorting the countries in cluster 1 as per business requirement"
   ]
  },
  {
   "cell_type": "code",
   "execution_count": 37,
   "metadata": {},
   "outputs": [
    {
     "data": {
      "text/html": [
       "<div>\n",
       "<style scoped>\n",
       "    .dataframe tbody tr th:only-of-type {\n",
       "        vertical-align: middle;\n",
       "    }\n",
       "\n",
       "    .dataframe tbody tr th {\n",
       "        vertical-align: top;\n",
       "    }\n",
       "\n",
       "    .dataframe thead th {\n",
       "        text-align: right;\n",
       "    }\n",
       "</style>\n",
       "<table border=\"1\" class=\"dataframe\">\n",
       "  <thead>\n",
       "    <tr style=\"text-align: right;\">\n",
       "      <th></th>\n",
       "      <th>country</th>\n",
       "      <th>child_mort</th>\n",
       "      <th>exports</th>\n",
       "      <th>health</th>\n",
       "      <th>imports</th>\n",
       "      <th>income</th>\n",
       "      <th>inflation</th>\n",
       "      <th>life_expec</th>\n",
       "      <th>total_fer</th>\n",
       "      <th>gdpp</th>\n",
       "      <th>cluster_id</th>\n",
       "    </tr>\n",
       "  </thead>\n",
       "  <tbody>\n",
       "    <tr>\n",
       "      <td>88</td>\n",
       "      <td>Liberia</td>\n",
       "      <td>89.3</td>\n",
       "      <td>62.457000</td>\n",
       "      <td>38.586000</td>\n",
       "      <td>302.80200</td>\n",
       "      <td>742.24</td>\n",
       "      <td>5.47</td>\n",
       "      <td>60.8</td>\n",
       "      <td>5.0200</td>\n",
       "      <td>331.62</td>\n",
       "      <td>1</td>\n",
       "    </tr>\n",
       "    <tr>\n",
       "      <td>26</td>\n",
       "      <td>Burundi</td>\n",
       "      <td>93.6</td>\n",
       "      <td>22.243716</td>\n",
       "      <td>26.796000</td>\n",
       "      <td>104.90964</td>\n",
       "      <td>764.00</td>\n",
       "      <td>12.30</td>\n",
       "      <td>57.7</td>\n",
       "      <td>6.2600</td>\n",
       "      <td>331.62</td>\n",
       "      <td>1</td>\n",
       "    </tr>\n",
       "    <tr>\n",
       "      <td>37</td>\n",
       "      <td>Congo, Dem. Rep.</td>\n",
       "      <td>116.0</td>\n",
       "      <td>137.274000</td>\n",
       "      <td>26.419400</td>\n",
       "      <td>165.66400</td>\n",
       "      <td>742.24</td>\n",
       "      <td>20.80</td>\n",
       "      <td>57.5</td>\n",
       "      <td>6.5400</td>\n",
       "      <td>334.00</td>\n",
       "      <td>1</td>\n",
       "    </tr>\n",
       "    <tr>\n",
       "      <td>112</td>\n",
       "      <td>Niger</td>\n",
       "      <td>123.0</td>\n",
       "      <td>77.256000</td>\n",
       "      <td>17.956800</td>\n",
       "      <td>170.86800</td>\n",
       "      <td>814.00</td>\n",
       "      <td>2.55</td>\n",
       "      <td>58.8</td>\n",
       "      <td>6.5636</td>\n",
       "      <td>348.00</td>\n",
       "      <td>1</td>\n",
       "    </tr>\n",
       "    <tr>\n",
       "      <td>132</td>\n",
       "      <td>Sierra Leone</td>\n",
       "      <td>153.4</td>\n",
       "      <td>67.032000</td>\n",
       "      <td>52.269000</td>\n",
       "      <td>137.65500</td>\n",
       "      <td>1220.00</td>\n",
       "      <td>17.20</td>\n",
       "      <td>55.0</td>\n",
       "      <td>5.2000</td>\n",
       "      <td>399.00</td>\n",
       "      <td>1</td>\n",
       "    </tr>\n",
       "    <tr>\n",
       "      <td>93</td>\n",
       "      <td>Madagascar</td>\n",
       "      <td>62.2</td>\n",
       "      <td>103.250000</td>\n",
       "      <td>17.009362</td>\n",
       "      <td>177.59000</td>\n",
       "      <td>1390.00</td>\n",
       "      <td>8.79</td>\n",
       "      <td>60.8</td>\n",
       "      <td>4.6000</td>\n",
       "      <td>413.00</td>\n",
       "      <td>1</td>\n",
       "    </tr>\n",
       "    <tr>\n",
       "      <td>106</td>\n",
       "      <td>Mozambique</td>\n",
       "      <td>101.0</td>\n",
       "      <td>131.985000</td>\n",
       "      <td>21.829900</td>\n",
       "      <td>193.57800</td>\n",
       "      <td>918.00</td>\n",
       "      <td>7.64</td>\n",
       "      <td>54.5</td>\n",
       "      <td>5.5600</td>\n",
       "      <td>419.00</td>\n",
       "      <td>1</td>\n",
       "    </tr>\n",
       "    <tr>\n",
       "      <td>31</td>\n",
       "      <td>Central African Republic</td>\n",
       "      <td>149.0</td>\n",
       "      <td>52.628000</td>\n",
       "      <td>17.750800</td>\n",
       "      <td>118.19000</td>\n",
       "      <td>888.00</td>\n",
       "      <td>2.01</td>\n",
       "      <td>47.5</td>\n",
       "      <td>5.2100</td>\n",
       "      <td>446.00</td>\n",
       "      <td>1</td>\n",
       "    </tr>\n",
       "    <tr>\n",
       "      <td>94</td>\n",
       "      <td>Malawi</td>\n",
       "      <td>90.5</td>\n",
       "      <td>104.652000</td>\n",
       "      <td>30.248100</td>\n",
       "      <td>160.19100</td>\n",
       "      <td>1030.00</td>\n",
       "      <td>12.10</td>\n",
       "      <td>53.1</td>\n",
       "      <td>5.3100</td>\n",
       "      <td>459.00</td>\n",
       "      <td>1</td>\n",
       "    </tr>\n",
       "    <tr>\n",
       "      <td>50</td>\n",
       "      <td>Eritrea</td>\n",
       "      <td>55.2</td>\n",
       "      <td>23.087800</td>\n",
       "      <td>17.009362</td>\n",
       "      <td>112.30600</td>\n",
       "      <td>1420.00</td>\n",
       "      <td>11.60</td>\n",
       "      <td>61.7</td>\n",
       "      <td>4.6100</td>\n",
       "      <td>482.00</td>\n",
       "      <td>1</td>\n",
       "    </tr>\n",
       "  </tbody>\n",
       "</table>\n",
       "</div>"
      ],
      "text/plain": [
       "                      country  child_mort     exports     health    imports  \\\n",
       "88                    Liberia        89.3   62.457000  38.586000  302.80200   \n",
       "26                    Burundi        93.6   22.243716  26.796000  104.90964   \n",
       "37           Congo, Dem. Rep.       116.0  137.274000  26.419400  165.66400   \n",
       "112                     Niger       123.0   77.256000  17.956800  170.86800   \n",
       "132              Sierra Leone       153.4   67.032000  52.269000  137.65500   \n",
       "93                 Madagascar        62.2  103.250000  17.009362  177.59000   \n",
       "106                Mozambique       101.0  131.985000  21.829900  193.57800   \n",
       "31   Central African Republic       149.0   52.628000  17.750800  118.19000   \n",
       "94                     Malawi        90.5  104.652000  30.248100  160.19100   \n",
       "50                    Eritrea        55.2   23.087800  17.009362  112.30600   \n",
       "\n",
       "      income  inflation  life_expec  total_fer    gdpp  cluster_id  \n",
       "88    742.24       5.47        60.8     5.0200  331.62           1  \n",
       "26    764.00      12.30        57.7     6.2600  331.62           1  \n",
       "37    742.24      20.80        57.5     6.5400  334.00           1  \n",
       "112   814.00       2.55        58.8     6.5636  348.00           1  \n",
       "132  1220.00      17.20        55.0     5.2000  399.00           1  \n",
       "93   1390.00       8.79        60.8     4.6000  413.00           1  \n",
       "106   918.00       7.64        54.5     5.5600  419.00           1  \n",
       "31    888.00       2.01        47.5     5.2100  446.00           1  \n",
       "94   1030.00      12.10        53.1     5.3100  459.00           1  \n",
       "50   1420.00      11.60        61.7     4.6100  482.00           1  "
      ]
     },
     "execution_count": 37,
     "metadata": {},
     "output_type": "execute_result"
    }
   ],
   "source": [
    "#ascending gdpp and income, but descending child_mort\n",
    "sorted_country = kmean_prediction[kmean_prediction['cluster_id'] == 1].sort_values(by=['gdpp', 'income', 'child_mort'], ascending=[True, True, False])\n",
    "sorted_country.head(10)"
   ]
  },
  {
   "cell_type": "markdown",
   "metadata": {},
   "source": [
    "# Hierarchical clustering"
   ]
  },
  {
   "cell_type": "code",
   "execution_count": 38,
   "metadata": {},
   "outputs": [],
   "source": [
    "from scipy.cluster.hierarchy import linkage\n",
    "from scipy.cluster.hierarchy import dendrogram\n",
    "from scipy.cluster.hierarchy import cut_tree"
   ]
  },
  {
   "cell_type": "code",
   "execution_count": 39,
   "metadata": {},
   "outputs": [
    {
     "data": {
      "text/html": [
       "<div>\n",
       "<style scoped>\n",
       "    .dataframe tbody tr th:only-of-type {\n",
       "        vertical-align: middle;\n",
       "    }\n",
       "\n",
       "    .dataframe tbody tr th {\n",
       "        vertical-align: top;\n",
       "    }\n",
       "\n",
       "    .dataframe thead th {\n",
       "        text-align: right;\n",
       "    }\n",
       "</style>\n",
       "<table border=\"1\" class=\"dataframe\">\n",
       "  <thead>\n",
       "    <tr style=\"text-align: right;\">\n",
       "      <th></th>\n",
       "      <th>child_mort</th>\n",
       "      <th>exports</th>\n",
       "      <th>health</th>\n",
       "      <th>imports</th>\n",
       "      <th>income</th>\n",
       "      <th>inflation</th>\n",
       "      <th>life_expec</th>\n",
       "      <th>total_fer</th>\n",
       "      <th>gdpp</th>\n",
       "    </tr>\n",
       "  </thead>\n",
       "  <tbody>\n",
       "    <tr>\n",
       "      <td>0</td>\n",
       "      <td>1.344012</td>\n",
       "      <td>-0.569638</td>\n",
       "      <td>-0.566983</td>\n",
       "      <td>-0.598844</td>\n",
       "      <td>-0.851772</td>\n",
       "      <td>0.263649</td>\n",
       "      <td>-1.693799</td>\n",
       "      <td>1.926928</td>\n",
       "      <td>-0.702314</td>\n",
       "    </tr>\n",
       "    <tr>\n",
       "      <td>1</td>\n",
       "      <td>-0.547543</td>\n",
       "      <td>-0.473873</td>\n",
       "      <td>-0.440417</td>\n",
       "      <td>-0.413679</td>\n",
       "      <td>-0.387025</td>\n",
       "      <td>-0.375251</td>\n",
       "      <td>0.663053</td>\n",
       "      <td>-0.865911</td>\n",
       "      <td>-0.498775</td>\n",
       "    </tr>\n",
       "    <tr>\n",
       "      <td>2</td>\n",
       "      <td>-0.272548</td>\n",
       "      <td>-0.424015</td>\n",
       "      <td>-0.486295</td>\n",
       "      <td>-0.476198</td>\n",
       "      <td>-0.221124</td>\n",
       "      <td>1.123260</td>\n",
       "      <td>0.686504</td>\n",
       "      <td>-0.035427</td>\n",
       "      <td>-0.477483</td>\n",
       "    </tr>\n",
       "    <tr>\n",
       "      <td>3</td>\n",
       "      <td>2.084186</td>\n",
       "      <td>-0.381264</td>\n",
       "      <td>-0.534113</td>\n",
       "      <td>-0.464070</td>\n",
       "      <td>-0.612136</td>\n",
       "      <td>1.936405</td>\n",
       "      <td>-1.236499</td>\n",
       "      <td>2.154642</td>\n",
       "      <td>-0.531000</td>\n",
       "    </tr>\n",
       "    <tr>\n",
       "      <td>4</td>\n",
       "      <td>-0.709457</td>\n",
       "      <td>-0.086754</td>\n",
       "      <td>-0.178431</td>\n",
       "      <td>0.139659</td>\n",
       "      <td>0.125202</td>\n",
       "      <td>-0.768917</td>\n",
       "      <td>0.721681</td>\n",
       "      <td>-0.544433</td>\n",
       "      <td>-0.032079</td>\n",
       "    </tr>\n",
       "  </tbody>\n",
       "</table>\n",
       "</div>"
      ],
      "text/plain": [
       "   child_mort   exports    health   imports    income  inflation  life_expec  \\\n",
       "0    1.344012 -0.569638 -0.566983 -0.598844 -0.851772   0.263649   -1.693799   \n",
       "1   -0.547543 -0.473873 -0.440417 -0.413679 -0.387025  -0.375251    0.663053   \n",
       "2   -0.272548 -0.424015 -0.486295 -0.476198 -0.221124   1.123260    0.686504   \n",
       "3    2.084186 -0.381264 -0.534113 -0.464070 -0.612136   1.936405   -1.236499   \n",
       "4   -0.709457 -0.086754 -0.178431  0.139659  0.125202  -0.768917    0.721681   \n",
       "\n",
       "   total_fer      gdpp  \n",
       "0   1.926928 -0.702314  \n",
       "1  -0.865911 -0.498775  \n",
       "2  -0.035427 -0.477483  \n",
       "3   2.154642 -0.531000  \n",
       "4  -0.544433 -0.032079  "
      ]
     },
     "execution_count": 39,
     "metadata": {},
     "output_type": "execute_result"
    }
   ],
   "source": [
    "country_data_scaled.head()"
   ]
  },
  {
   "cell_type": "markdown",
   "metadata": {},
   "source": [
    "### Single linkage"
   ]
  },
  {
   "cell_type": "code",
   "execution_count": 40,
   "metadata": {},
   "outputs": [
    {
     "data": {
      "image/png": "[encoded data removed]",
      "text/plain": [
       "<Figure size 432x288 with 1 Axes>"
      ]
     },
     "metadata": {
      "needs_background": "light"
     },
     "output_type": "display_data"
    }
   ],
   "source": [
    "single_linkage = linkage(country_data_scaled, method='single', metric='euclidean')\n",
    "dendrogram(single_linkage)\n",
    "plt.show()"
   ]
  },
  {
   "cell_type": "markdown",
   "metadata": {},
   "source": [
    "Interpreting results form simple linkage is quite complex, hence, using complete linkage"
   ]
  },
  {
   "cell_type": "markdown",
   "metadata": {},
   "source": [
    "### Complete linkage"
   ]
  },
  {
   "cell_type": "code",
   "execution_count": 41,
   "metadata": {},
   "outputs": [
    {
     "data": {
      "image/png": "[encoded data removed]",
      "text/plain": [
       "<Figure size 432x288 with 1 Axes>"
      ]
     },
     "metadata": {
      "needs_background": "light"
     },
     "output_type": "display_data"
    }
   ],
   "source": [
    "complete_linkage = linkage(country_data_scaled, method='complete', metric='euclidean')\n",
    "dendrogram(complete_linkage)\n",
    "plt.show()"
   ]
  },
  {
   "cell_type": "markdown",
   "metadata": {},
   "source": [
    "#### Judging the by height of dendrogram, optimum number of clusters seems like 2\n",
    "#### But if we divide the dataset in 2 clusters, we will get clusters with high valued data points and low valued data points, average valued data points might get assigned wrong cluster. Since, the business requirement requires cluster of backward countries hence, clustering should be specific. Hence, using 4 as number of clusters  "
   ]
  },
  {
   "cell_type": "code",
   "execution_count": 42,
   "metadata": {},
   "outputs": [
    {
     "data": {
      "text/plain": [
       "array([0, 1, 1, 0, 1, 1, 1, 2, 2, 1, 1, 1, 1, 1, 1, 2, 1, 0, 1, 1, 1, 0,\n",
       "       1, 2, 1, 0, 0, 1, 0, 2, 1, 0, 0, 1, 1, 1, 0, 0, 0, 1, 0, 1, 1, 1,\n",
       "       2, 1, 1, 1, 1, 0, 0, 1, 1, 2, 2, 0, 0, 1, 2, 0, 1, 1, 1, 0, 0, 1,\n",
       "       0, 1, 2, 1, 1, 1, 0, 3, 1, 1, 1, 1, 1, 1, 0, 0, 2, 1, 0, 1, 1, 0,\n",
       "       0, 1, 1, 3, 1, 0, 0, 1, 1, 0, 1, 0, 1, 1, 1, 0, 1, 1, 0, 1, 0, 1,\n",
       "       2, 1, 0, 0, 2, 1, 0, 1, 1, 1, 1, 1, 1, 2, 1, 1, 0, 1, 1, 0, 1, 1,\n",
       "       0, 3, 1, 1, 0, 0, 1, 1, 1, 1, 0, 1, 2, 2, 1, 0, 1, 0, 0, 1, 1, 1,\n",
       "       1, 0, 1, 2, 1, 2, 1, 1, 1, 0, 1, 0, 0])"
      ]
     },
     "execution_count": 42,
     "metadata": {},
     "output_type": "execute_result"
    }
   ],
   "source": [
    "#creating 2 clusters using cut-tree\n",
    "cluster_labels = cut_tree(complete_linkage, n_clusters = 4).reshape(-1)\n",
    "cluster_labels"
   ]
  },
  {
   "cell_type": "code",
   "execution_count": 43,
   "metadata": {
    "scrolled": true
   },
   "outputs": [
    {
     "data": {
      "text/html": [
       "<div>\n",
       "<style scoped>\n",
       "    .dataframe tbody tr th:only-of-type {\n",
       "        vertical-align: middle;\n",
       "    }\n",
       "\n",
       "    .dataframe tbody tr th {\n",
       "        vertical-align: top;\n",
       "    }\n",
       "\n",
       "    .dataframe thead th {\n",
       "        text-align: right;\n",
       "    }\n",
       "</style>\n",
       "<table border=\"1\" class=\"dataframe\">\n",
       "  <thead>\n",
       "    <tr style=\"text-align: right;\">\n",
       "      <th></th>\n",
       "      <th>country</th>\n",
       "      <th>child_mort</th>\n",
       "      <th>exports</th>\n",
       "      <th>health</th>\n",
       "      <th>imports</th>\n",
       "      <th>income</th>\n",
       "      <th>inflation</th>\n",
       "      <th>life_expec</th>\n",
       "      <th>total_fer</th>\n",
       "      <th>gdpp</th>\n",
       "      <th>cluster_id</th>\n",
       "    </tr>\n",
       "  </thead>\n",
       "  <tbody>\n",
       "    <tr>\n",
       "      <td>0</td>\n",
       "      <td>Afghanistan</td>\n",
       "      <td>90.2</td>\n",
       "      <td>55.30</td>\n",
       "      <td>41.9174</td>\n",
       "      <td>248.297</td>\n",
       "      <td>1610.0</td>\n",
       "      <td>9.44</td>\n",
       "      <td>56.2</td>\n",
       "      <td>5.82</td>\n",
       "      <td>553.0</td>\n",
       "      <td>0</td>\n",
       "    </tr>\n",
       "    <tr>\n",
       "      <td>1</td>\n",
       "      <td>Albania</td>\n",
       "      <td>16.6</td>\n",
       "      <td>1145.20</td>\n",
       "      <td>267.8950</td>\n",
       "      <td>1987.740</td>\n",
       "      <td>9930.0</td>\n",
       "      <td>4.49</td>\n",
       "      <td>76.3</td>\n",
       "      <td>1.65</td>\n",
       "      <td>4090.0</td>\n",
       "      <td>1</td>\n",
       "    </tr>\n",
       "    <tr>\n",
       "      <td>2</td>\n",
       "      <td>Algeria</td>\n",
       "      <td>27.3</td>\n",
       "      <td>1712.64</td>\n",
       "      <td>185.9820</td>\n",
       "      <td>1400.440</td>\n",
       "      <td>12900.0</td>\n",
       "      <td>16.10</td>\n",
       "      <td>76.5</td>\n",
       "      <td>2.89</td>\n",
       "      <td>4460.0</td>\n",
       "      <td>1</td>\n",
       "    </tr>\n",
       "    <tr>\n",
       "      <td>3</td>\n",
       "      <td>Angola</td>\n",
       "      <td>119.0</td>\n",
       "      <td>2199.19</td>\n",
       "      <td>100.6050</td>\n",
       "      <td>1514.370</td>\n",
       "      <td>5900.0</td>\n",
       "      <td>22.40</td>\n",
       "      <td>60.1</td>\n",
       "      <td>6.16</td>\n",
       "      <td>3530.0</td>\n",
       "      <td>0</td>\n",
       "    </tr>\n",
       "    <tr>\n",
       "      <td>4</td>\n",
       "      <td>Antigua and Barbuda</td>\n",
       "      <td>10.3</td>\n",
       "      <td>5551.00</td>\n",
       "      <td>735.6600</td>\n",
       "      <td>7185.800</td>\n",
       "      <td>19100.0</td>\n",
       "      <td>1.44</td>\n",
       "      <td>76.8</td>\n",
       "      <td>2.13</td>\n",
       "      <td>12200.0</td>\n",
       "      <td>1</td>\n",
       "    </tr>\n",
       "  </tbody>\n",
       "</table>\n",
       "</div>"
      ],
      "text/plain": [
       "               country  child_mort  exports    health   imports   income  \\\n",
       "0          Afghanistan        90.2    55.30   41.9174   248.297   1610.0   \n",
       "1              Albania        16.6  1145.20  267.8950  1987.740   9930.0   \n",
       "2              Algeria        27.3  1712.64  185.9820  1400.440  12900.0   \n",
       "3               Angola       119.0  2199.19  100.6050  1514.370   5900.0   \n",
       "4  Antigua and Barbuda        10.3  5551.00  735.6600  7185.800  19100.0   \n",
       "\n",
       "   inflation  life_expec  total_fer     gdpp  cluster_id  \n",
       "0       9.44        56.2       5.82    553.0           0  \n",
       "1       4.49        76.3       1.65   4090.0           1  \n",
       "2      16.10        76.5       2.89   4460.0           1  \n",
       "3      22.40        60.1       6.16   3530.0           0  \n",
       "4       1.44        76.8       2.13  12200.0           1  "
      ]
     },
     "execution_count": 43,
     "metadata": {},
     "output_type": "execute_result"
    }
   ],
   "source": [
    "hierarchial_prediction = country_data.copy()\n",
    "\n",
    "#assigning cluster_id to each country\n",
    "hierarchial_prediction['cluster_id'] = cluster_labels\n",
    "\n",
    "hierarchial_prediction.head()"
   ]
  },
  {
   "cell_type": "code",
   "execution_count": 44,
   "metadata": {},
   "outputs": [
    {
     "data": {
      "text/plain": [
       "1    96\n",
       "0    50\n",
       "2    18\n",
       "3     3\n",
       "Name: cluster_id, dtype: int64"
      ]
     },
     "execution_count": 44,
     "metadata": {},
     "output_type": "execute_result"
    }
   ],
   "source": [
    "hierarchial_prediction['cluster_id'].value_counts()"
   ]
  },
  {
   "cell_type": "markdown",
   "metadata": {},
   "source": [
    "### Visualising the clusters\n",
    "\n",
    "#### using child_mort, income and gdpp"
   ]
  },
  {
   "cell_type": "code",
   "execution_count": 45,
   "metadata": {},
   "outputs": [
    {
     "data": {
      "image/png": "[encoded data removed]",
      "text/plain": [
       "<Figure size 720x504 with 1 Axes>"
      ]
     },
     "metadata": {
      "needs_background": "light"
     },
     "output_type": "display_data"
    }
   ],
   "source": [
    "plt.figure(figsize=[10,7])\n",
    "sns.scatterplot(x = 'child_mort', y = 'income', size = 'gdpp', hue = 'cluster_id', data = hierarchial_prediction)\n",
    "plt.show()"
   ]
  },
  {
   "cell_type": "markdown",
   "metadata": {},
   "source": [
    "### From the above plots, it is evident that,\n",
    "- cluster 0: Low gdpp, Lowest income, highest child_mort \n",
    "- cluster 1: low gdpp, low income, high child_mort\n",
    "- cluster 2: average gdpp, average income, low child_mort\n",
    "- cluster 3: High gdpp, High income, low child_mort"
   ]
  },
  {
   "cell_type": "markdown",
   "metadata": {},
   "source": [
    "### Cluster profiling\n",
    "\n",
    "#### using child_mort, income and gdpp"
   ]
  },
  {
   "cell_type": "code",
   "execution_count": 46,
   "metadata": {},
   "outputs": [
    {
     "data": {
      "text/html": [
       "<div>\n",
       "<style scoped>\n",
       "    .dataframe tbody tr th:only-of-type {\n",
       "        vertical-align: middle;\n",
       "    }\n",
       "\n",
       "    .dataframe tbody tr th {\n",
       "        vertical-align: top;\n",
       "    }\n",
       "\n",
       "    .dataframe thead th {\n",
       "        text-align: right;\n",
       "    }\n",
       "</style>\n",
       "<table border=\"1\" class=\"dataframe\">\n",
       "  <thead>\n",
       "    <tr style=\"text-align: right;\">\n",
       "      <th></th>\n",
       "      <th>child_mort</th>\n",
       "      <th>income</th>\n",
       "      <th>gdpp</th>\n",
       "    </tr>\n",
       "    <tr>\n",
       "      <th>cluster_id</th>\n",
       "      <th></th>\n",
       "      <th></th>\n",
       "      <th></th>\n",
       "    </tr>\n",
       "  </thead>\n",
       "  <tbody>\n",
       "    <tr>\n",
       "      <td>0</td>\n",
       "      <td>87.586000</td>\n",
       "      <td>4229.169600</td>\n",
       "      <td>2157.944800</td>\n",
       "    </tr>\n",
       "    <tr>\n",
       "      <td>1</td>\n",
       "      <td>19.188542</td>\n",
       "      <td>15438.333333</td>\n",
       "      <td>9849.187500</td>\n",
       "    </tr>\n",
       "    <tr>\n",
       "      <td>2</td>\n",
       "      <td>5.494444</td>\n",
       "      <td>51093.000000</td>\n",
       "      <td>50149.333333</td>\n",
       "    </tr>\n",
       "    <tr>\n",
       "      <td>3</td>\n",
       "      <td>3.266667</td>\n",
       "      <td>67391.333333</td>\n",
       "      <td>58129.333333</td>\n",
       "    </tr>\n",
       "  </tbody>\n",
       "</table>\n",
       "</div>"
      ],
      "text/plain": [
       "            child_mort        income          gdpp\n",
       "cluster_id                                        \n",
       "0            87.586000   4229.169600   2157.944800\n",
       "1            19.188542  15438.333333   9849.187500\n",
       "2             5.494444  51093.000000  50149.333333\n",
       "3             3.266667  67391.333333  58129.333333"
      ]
     },
     "execution_count": 46,
     "metadata": {},
     "output_type": "execute_result"
    }
   ],
   "source": [
    "hierarchial_prediction[['child_mort', 'income', 'gdpp', 'cluster_id']].groupby('cluster_id').mean()"
   ]
  },
  {
   "cell_type": "code",
   "execution_count": 47,
   "metadata": {},
   "outputs": [
    {
     "data": {
      "text/plain": [
       "<matplotlib.axes._subplots.AxesSubplot at 0x1a22e1c810>"
      ]
     },
     "execution_count": 47,
     "metadata": {},
     "output_type": "execute_result"
    },
    {
     "data": {
      "image/png": "[encoded data removed]",
      "text/plain": [
       "<Figure size 432x288 with 1 Axes>"
      ]
     },
     "metadata": {
      "needs_background": "light"
     },
     "output_type": "display_data"
    }
   ],
   "source": [
    "hierarchial_prediction[['child_mort', 'income', 'gdpp', 'cluster_id']].groupby('cluster_id').mean().plot(kind = 'bar')"
   ]
  },
  {
   "cell_type": "code",
   "execution_count": 48,
   "metadata": {},
   "outputs": [
    {
     "data": {
      "text/plain": [
       "<matplotlib.axes._subplots.AxesSubplot at 0x1a22c6aad0>"
      ]
     },
     "execution_count": 48,
     "metadata": {},
     "output_type": "execute_result"
    },
    {
     "data": {
      "image/png": "[encoded data removed]",
      "text/plain": [
       "<Figure size 432x288 with 1 Axes>"
      ]
     },
     "metadata": {
      "needs_background": "light"
     },
     "output_type": "display_data"
    }
   ],
   "source": [
    "sns.boxplot(x = 'cluster_id', y='child_mort', data=hierarchial_prediction)"
   ]
  },
  {
   "cell_type": "markdown",
   "metadata": {},
   "source": [
    "### From the above plots, we confirm that that,\n",
    "- cluster 0: Low gdpp, Lowest income, highest child_mort \n",
    "- cluster 1: low gdpp, low income, high child_mort\n",
    "- cluster 2: average gdpp, average income, low child_mort\n",
    "- cluster 3: High gdpp, High income, low child_mort"
   ]
  },
  {
   "cell_type": "markdown",
   "metadata": {},
   "source": [
    "### Since cluster 0 countries have low income, low gdpp and high child_mort, they require urgent financial help"
   ]
  },
  {
   "cell_type": "markdown",
   "metadata": {},
   "source": [
    "#### sorting the countries in cluster 0 as per business requirement"
   ]
  },
  {
   "cell_type": "code",
   "execution_count": 49,
   "metadata": {},
   "outputs": [
    {
     "data": {
      "text/html": [
       "<div>\n",
       "<style scoped>\n",
       "    .dataframe tbody tr th:only-of-type {\n",
       "        vertical-align: middle;\n",
       "    }\n",
       "\n",
       "    .dataframe tbody tr th {\n",
       "        vertical-align: top;\n",
       "    }\n",
       "\n",
       "    .dataframe thead th {\n",
       "        text-align: right;\n",
       "    }\n",
       "</style>\n",
       "<table border=\"1\" class=\"dataframe\">\n",
       "  <thead>\n",
       "    <tr style=\"text-align: right;\">\n",
       "      <th></th>\n",
       "      <th>country</th>\n",
       "      <th>child_mort</th>\n",
       "      <th>exports</th>\n",
       "      <th>health</th>\n",
       "      <th>imports</th>\n",
       "      <th>income</th>\n",
       "      <th>inflation</th>\n",
       "      <th>life_expec</th>\n",
       "      <th>total_fer</th>\n",
       "      <th>gdpp</th>\n",
       "      <th>cluster_id</th>\n",
       "    </tr>\n",
       "  </thead>\n",
       "  <tbody>\n",
       "    <tr>\n",
       "      <td>88</td>\n",
       "      <td>Liberia</td>\n",
       "      <td>89.3</td>\n",
       "      <td>62.457000</td>\n",
       "      <td>38.586000</td>\n",
       "      <td>302.80200</td>\n",
       "      <td>742.24</td>\n",
       "      <td>5.47</td>\n",
       "      <td>60.8</td>\n",
       "      <td>5.0200</td>\n",
       "      <td>331.62</td>\n",
       "      <td>0</td>\n",
       "    </tr>\n",
       "    <tr>\n",
       "      <td>26</td>\n",
       "      <td>Burundi</td>\n",
       "      <td>93.6</td>\n",
       "      <td>22.243716</td>\n",
       "      <td>26.796000</td>\n",
       "      <td>104.90964</td>\n",
       "      <td>764.00</td>\n",
       "      <td>12.30</td>\n",
       "      <td>57.7</td>\n",
       "      <td>6.2600</td>\n",
       "      <td>331.62</td>\n",
       "      <td>0</td>\n",
       "    </tr>\n",
       "    <tr>\n",
       "      <td>37</td>\n",
       "      <td>Congo, Dem. Rep.</td>\n",
       "      <td>116.0</td>\n",
       "      <td>137.274000</td>\n",
       "      <td>26.419400</td>\n",
       "      <td>165.66400</td>\n",
       "      <td>742.24</td>\n",
       "      <td>20.80</td>\n",
       "      <td>57.5</td>\n",
       "      <td>6.5400</td>\n",
       "      <td>334.00</td>\n",
       "      <td>0</td>\n",
       "    </tr>\n",
       "    <tr>\n",
       "      <td>112</td>\n",
       "      <td>Niger</td>\n",
       "      <td>123.0</td>\n",
       "      <td>77.256000</td>\n",
       "      <td>17.956800</td>\n",
       "      <td>170.86800</td>\n",
       "      <td>814.00</td>\n",
       "      <td>2.55</td>\n",
       "      <td>58.8</td>\n",
       "      <td>6.5636</td>\n",
       "      <td>348.00</td>\n",
       "      <td>0</td>\n",
       "    </tr>\n",
       "    <tr>\n",
       "      <td>132</td>\n",
       "      <td>Sierra Leone</td>\n",
       "      <td>153.4</td>\n",
       "      <td>67.032000</td>\n",
       "      <td>52.269000</td>\n",
       "      <td>137.65500</td>\n",
       "      <td>1220.00</td>\n",
       "      <td>17.20</td>\n",
       "      <td>55.0</td>\n",
       "      <td>5.2000</td>\n",
       "      <td>399.00</td>\n",
       "      <td>0</td>\n",
       "    </tr>\n",
       "    <tr>\n",
       "      <td>93</td>\n",
       "      <td>Madagascar</td>\n",
       "      <td>62.2</td>\n",
       "      <td>103.250000</td>\n",
       "      <td>17.009362</td>\n",
       "      <td>177.59000</td>\n",
       "      <td>1390.00</td>\n",
       "      <td>8.79</td>\n",
       "      <td>60.8</td>\n",
       "      <td>4.6000</td>\n",
       "      <td>413.00</td>\n",
       "      <td>0</td>\n",
       "    </tr>\n",
       "    <tr>\n",
       "      <td>106</td>\n",
       "      <td>Mozambique</td>\n",
       "      <td>101.0</td>\n",
       "      <td>131.985000</td>\n",
       "      <td>21.829900</td>\n",
       "      <td>193.57800</td>\n",
       "      <td>918.00</td>\n",
       "      <td>7.64</td>\n",
       "      <td>54.5</td>\n",
       "      <td>5.5600</td>\n",
       "      <td>419.00</td>\n",
       "      <td>0</td>\n",
       "    </tr>\n",
       "    <tr>\n",
       "      <td>31</td>\n",
       "      <td>Central African Republic</td>\n",
       "      <td>149.0</td>\n",
       "      <td>52.628000</td>\n",
       "      <td>17.750800</td>\n",
       "      <td>118.19000</td>\n",
       "      <td>888.00</td>\n",
       "      <td>2.01</td>\n",
       "      <td>47.5</td>\n",
       "      <td>5.2100</td>\n",
       "      <td>446.00</td>\n",
       "      <td>0</td>\n",
       "    </tr>\n",
       "    <tr>\n",
       "      <td>94</td>\n",
       "      <td>Malawi</td>\n",
       "      <td>90.5</td>\n",
       "      <td>104.652000</td>\n",
       "      <td>30.248100</td>\n",
       "      <td>160.19100</td>\n",
       "      <td>1030.00</td>\n",
       "      <td>12.10</td>\n",
       "      <td>53.1</td>\n",
       "      <td>5.3100</td>\n",
       "      <td>459.00</td>\n",
       "      <td>0</td>\n",
       "    </tr>\n",
       "    <tr>\n",
       "      <td>50</td>\n",
       "      <td>Eritrea</td>\n",
       "      <td>55.2</td>\n",
       "      <td>23.087800</td>\n",
       "      <td>17.009362</td>\n",
       "      <td>112.30600</td>\n",
       "      <td>1420.00</td>\n",
       "      <td>11.60</td>\n",
       "      <td>61.7</td>\n",
       "      <td>4.6100</td>\n",
       "      <td>482.00</td>\n",
       "      <td>0</td>\n",
       "    </tr>\n",
       "  </tbody>\n",
       "</table>\n",
       "</div>"
      ],
      "text/plain": [
       "                      country  child_mort     exports     health    imports  \\\n",
       "88                    Liberia        89.3   62.457000  38.586000  302.80200   \n",
       "26                    Burundi        93.6   22.243716  26.796000  104.90964   \n",
       "37           Congo, Dem. Rep.       116.0  137.274000  26.419400  165.66400   \n",
       "112                     Niger       123.0   77.256000  17.956800  170.86800   \n",
       "132              Sierra Leone       153.4   67.032000  52.269000  137.65500   \n",
       "93                 Madagascar        62.2  103.250000  17.009362  177.59000   \n",
       "106                Mozambique       101.0  131.985000  21.829900  193.57800   \n",
       "31   Central African Republic       149.0   52.628000  17.750800  118.19000   \n",
       "94                     Malawi        90.5  104.652000  30.248100  160.19100   \n",
       "50                    Eritrea        55.2   23.087800  17.009362  112.30600   \n",
       "\n",
       "      income  inflation  life_expec  total_fer    gdpp  cluster_id  \n",
       "88    742.24       5.47        60.8     5.0200  331.62           0  \n",
       "26    764.00      12.30        57.7     6.2600  331.62           0  \n",
       "37    742.24      20.80        57.5     6.5400  334.00           0  \n",
       "112   814.00       2.55        58.8     6.5636  348.00           0  \n",
       "132  1220.00      17.20        55.0     5.2000  399.00           0  \n",
       "93   1390.00       8.79        60.8     4.6000  413.00           0  \n",
       "106   918.00       7.64        54.5     5.5600  419.00           0  \n",
       "31    888.00       2.01        47.5     5.2100  446.00           0  \n",
       "94   1030.00      12.10        53.1     5.3100  459.00           0  \n",
       "50   1420.00      11.60        61.7     4.6100  482.00           0  "
      ]
     },
     "execution_count": 49,
     "metadata": {},
     "output_type": "execute_result"
    }
   ],
   "source": [
    "#ascending gdpp and income, but descending child_mort\n",
    "sorted_country = hierarchial_prediction[hierarchial_prediction['cluster_id'] == 0].sort_values(by=['gdpp', 'income', 'child_mort'], ascending=[True, True, False])\n",
    "sorted_country.head(10)"
   ]
  },
  {
   "cell_type": "markdown",
   "metadata": {},
   "source": [
    "# Inferences"
   ]
  },
  {
   "cell_type": "markdown",
   "metadata": {},
   "source": [
    "K-means and hierarchical clustering produce similar results but the clusters are more clean in the case of K-means clustering. The cluster boundaries are smooth and there is less over-lapping of data points. Hence, we conclude that K-means is a slightly better option for countries. Neverthless, the results produced by K-means and hierarchical clustering as same. Hence, both these methods are equally valid and significant in narrowing down the countries that are in dire need to financial help.\n",
    "\n",
    "There contries are:- \n",
    "1. Liberia\n",
    "2. Burundi\n",
    "3. Congo, Dem. Rep\n",
    "4. Niger\n",
    "5. Sierra Leone\n",
    "6. Madagascar\n",
    "7. Mozambique\n",
    "8. Central African Republic\n",
    "9. Malawi\n",
    "10. Eritrea\n",
    "\n",
    "All the above mentioned countries have low gdpp, low income and high child mortality"
   ]
  },
  {
   "cell_type": "markdown",
   "metadata": {},
   "source": [
    "### Choosing countries on basis of some socio-economic and health factors"
   ]
  },
  {
   "cell_type": "code",
   "execution_count": 50,
   "metadata": {},
   "outputs": [
    {
     "data": {
      "text/plain": [
       "<matplotlib.axes._subplots.AxesSubplot at 0x1a20532c10>"
      ]
     },
     "execution_count": 50,
     "metadata": {},
     "output_type": "execute_result"
    },
    {
     "data": {
      "image/png": "[encoded data removed]",
      "text/plain": [
       "<Figure size 432x288 with 1 Axes>"
      ]
     },
     "metadata": {
      "needs_background": "light"
     },
     "output_type": "display_data"
    }
   ],
   "source": [
    "kmean_prediction[['imports', 'exports', 'health', 'cluster_id']].groupby('cluster_id').mean().plot(kind = 'bar')"
   ]
  },
  {
   "cell_type": "code",
   "execution_count": 51,
   "metadata": {},
   "outputs": [
    {
     "data": {
      "text/plain": [
       "<matplotlib.axes._subplots.AxesSubplot at 0x1a2073d650>"
      ]
     },
     "execution_count": 51,
     "metadata": {},
     "output_type": "execute_result"
    },
    {
     "data": {
      "image/png": "[encoded data removed]",
      "text/plain": [
       "<Figure size 432x288 with 1 Axes>"
      ]
     },
     "metadata": {
      "needs_background": "light"
     },
     "output_type": "display_data"
    }
   ],
   "source": [
    "sns.boxplot(x = 'cluster_id', y='health', data=kmean_prediction)"
   ]
  },
  {
   "cell_type": "markdown",
   "metadata": {},
   "source": [
    "### From the above plots, we confirm that that,\n",
    "- cluster 0: High imports, High exports, High health \n",
    "- cluster 1: low imports, low exports, Low health\n",
    "- cluster 2: average imports, average exports, low health"
   ]
  },
  {
   "cell_type": "code",
   "execution_count": 52,
   "metadata": {
    "scrolled": true
   },
   "outputs": [
    {
     "data": {
      "text/html": [
       "<div>\n",
       "<style scoped>\n",
       "    .dataframe tbody tr th:only-of-type {\n",
       "        vertical-align: middle;\n",
       "    }\n",
       "\n",
       "    .dataframe tbody tr th {\n",
       "        vertical-align: top;\n",
       "    }\n",
       "\n",
       "    .dataframe thead th {\n",
       "        text-align: right;\n",
       "    }\n",
       "</style>\n",
       "<table border=\"1\" class=\"dataframe\">\n",
       "  <thead>\n",
       "    <tr style=\"text-align: right;\">\n",
       "      <th></th>\n",
       "      <th>country</th>\n",
       "      <th>child_mort</th>\n",
       "      <th>exports</th>\n",
       "      <th>health</th>\n",
       "      <th>imports</th>\n",
       "      <th>income</th>\n",
       "      <th>inflation</th>\n",
       "      <th>life_expec</th>\n",
       "      <th>total_fer</th>\n",
       "      <th>gdpp</th>\n",
       "      <th>cluster_id</th>\n",
       "    </tr>\n",
       "  </thead>\n",
       "  <tbody>\n",
       "    <tr>\n",
       "      <td>93</td>\n",
       "      <td>Madagascar</td>\n",
       "      <td>62.2</td>\n",
       "      <td>103.250000</td>\n",
       "      <td>17.009362</td>\n",
       "      <td>177.59000</td>\n",
       "      <td>1390.00</td>\n",
       "      <td>8.790</td>\n",
       "      <td>60.8</td>\n",
       "      <td>4.6000</td>\n",
       "      <td>413.00</td>\n",
       "      <td>1</td>\n",
       "    </tr>\n",
       "    <tr>\n",
       "      <td>50</td>\n",
       "      <td>Eritrea</td>\n",
       "      <td>55.2</td>\n",
       "      <td>23.087800</td>\n",
       "      <td>17.009362</td>\n",
       "      <td>112.30600</td>\n",
       "      <td>1420.00</td>\n",
       "      <td>11.600</td>\n",
       "      <td>61.7</td>\n",
       "      <td>4.6100</td>\n",
       "      <td>482.00</td>\n",
       "      <td>1</td>\n",
       "    </tr>\n",
       "    <tr>\n",
       "      <td>31</td>\n",
       "      <td>Central African Republic</td>\n",
       "      <td>149.0</td>\n",
       "      <td>52.628000</td>\n",
       "      <td>17.750800</td>\n",
       "      <td>118.19000</td>\n",
       "      <td>888.00</td>\n",
       "      <td>2.010</td>\n",
       "      <td>47.5</td>\n",
       "      <td>5.2100</td>\n",
       "      <td>446.00</td>\n",
       "      <td>1</td>\n",
       "    </tr>\n",
       "    <tr>\n",
       "      <td>112</td>\n",
       "      <td>Niger</td>\n",
       "      <td>123.0</td>\n",
       "      <td>77.256000</td>\n",
       "      <td>17.956800</td>\n",
       "      <td>170.86800</td>\n",
       "      <td>814.00</td>\n",
       "      <td>2.550</td>\n",
       "      <td>58.8</td>\n",
       "      <td>6.5636</td>\n",
       "      <td>348.00</td>\n",
       "      <td>1</td>\n",
       "    </tr>\n",
       "    <tr>\n",
       "      <td>106</td>\n",
       "      <td>Mozambique</td>\n",
       "      <td>101.0</td>\n",
       "      <td>131.985000</td>\n",
       "      <td>21.829900</td>\n",
       "      <td>193.57800</td>\n",
       "      <td>918.00</td>\n",
       "      <td>7.640</td>\n",
       "      <td>54.5</td>\n",
       "      <td>5.5600</td>\n",
       "      <td>419.00</td>\n",
       "      <td>1</td>\n",
       "    </tr>\n",
       "    <tr>\n",
       "      <td>116</td>\n",
       "      <td>Pakistan</td>\n",
       "      <td>92.1</td>\n",
       "      <td>140.400000</td>\n",
       "      <td>22.880000</td>\n",
       "      <td>201.76000</td>\n",
       "      <td>4280.00</td>\n",
       "      <td>10.900</td>\n",
       "      <td>65.3</td>\n",
       "      <td>3.8500</td>\n",
       "      <td>1040.00</td>\n",
       "      <td>1</td>\n",
       "    </tr>\n",
       "    <tr>\n",
       "      <td>37</td>\n",
       "      <td>Congo, Dem. Rep.</td>\n",
       "      <td>116.0</td>\n",
       "      <td>137.274000</td>\n",
       "      <td>26.419400</td>\n",
       "      <td>165.66400</td>\n",
       "      <td>742.24</td>\n",
       "      <td>20.800</td>\n",
       "      <td>57.5</td>\n",
       "      <td>6.5400</td>\n",
       "      <td>334.00</td>\n",
       "      <td>1</td>\n",
       "    </tr>\n",
       "    <tr>\n",
       "      <td>26</td>\n",
       "      <td>Burundi</td>\n",
       "      <td>93.6</td>\n",
       "      <td>22.243716</td>\n",
       "      <td>26.796000</td>\n",
       "      <td>104.90964</td>\n",
       "      <td>764.00</td>\n",
       "      <td>12.300</td>\n",
       "      <td>57.7</td>\n",
       "      <td>6.2600</td>\n",
       "      <td>331.62</td>\n",
       "      <td>1</td>\n",
       "    </tr>\n",
       "    <tr>\n",
       "      <td>94</td>\n",
       "      <td>Malawi</td>\n",
       "      <td>90.5</td>\n",
       "      <td>104.652000</td>\n",
       "      <td>30.248100</td>\n",
       "      <td>160.19100</td>\n",
       "      <td>1030.00</td>\n",
       "      <td>12.100</td>\n",
       "      <td>53.1</td>\n",
       "      <td>5.3100</td>\n",
       "      <td>459.00</td>\n",
       "      <td>1</td>\n",
       "    </tr>\n",
       "    <tr>\n",
       "      <td>17</td>\n",
       "      <td>Benin</td>\n",
       "      <td>111.0</td>\n",
       "      <td>180.404000</td>\n",
       "      <td>31.078000</td>\n",
       "      <td>281.97600</td>\n",
       "      <td>1820.00</td>\n",
       "      <td>0.885</td>\n",
       "      <td>61.8</td>\n",
       "      <td>5.3600</td>\n",
       "      <td>758.00</td>\n",
       "      <td>1</td>\n",
       "    </tr>\n",
       "  </tbody>\n",
       "</table>\n",
       "</div>"
      ],
      "text/plain": [
       "                      country  child_mort     exports     health    imports  \\\n",
       "93                 Madagascar        62.2  103.250000  17.009362  177.59000   \n",
       "50                    Eritrea        55.2   23.087800  17.009362  112.30600   \n",
       "31   Central African Republic       149.0   52.628000  17.750800  118.19000   \n",
       "112                     Niger       123.0   77.256000  17.956800  170.86800   \n",
       "106                Mozambique       101.0  131.985000  21.829900  193.57800   \n",
       "116                  Pakistan        92.1  140.400000  22.880000  201.76000   \n",
       "37           Congo, Dem. Rep.       116.0  137.274000  26.419400  165.66400   \n",
       "26                    Burundi        93.6   22.243716  26.796000  104.90964   \n",
       "94                     Malawi        90.5  104.652000  30.248100  160.19100   \n",
       "17                      Benin       111.0  180.404000  31.078000  281.97600   \n",
       "\n",
       "      income  inflation  life_expec  total_fer     gdpp  cluster_id  \n",
       "93   1390.00      8.790        60.8     4.6000   413.00           1  \n",
       "50   1420.00     11.600        61.7     4.6100   482.00           1  \n",
       "31    888.00      2.010        47.5     5.2100   446.00           1  \n",
       "112   814.00      2.550        58.8     6.5636   348.00           1  \n",
       "106   918.00      7.640        54.5     5.5600   419.00           1  \n",
       "116  4280.00     10.900        65.3     3.8500  1040.00           1  \n",
       "37    742.24     20.800        57.5     6.5400   334.00           1  \n",
       "26    764.00     12.300        57.7     6.2600   331.62           1  \n",
       "94   1030.00     12.100        53.1     5.3100   459.00           1  \n",
       "17   1820.00      0.885        61.8     5.3600   758.00           1  "
      ]
     },
     "execution_count": 52,
     "metadata": {},
     "output_type": "execute_result"
    }
   ],
   "source": [
    "#sorting on health ascending, imports descending and export ascending in kmeans prediction\n",
    "sorted_socio_eco = kmean_prediction[kmean_prediction['cluster_id'] == 1].sort_values(by=['health', 'imports', 'exports'], ascending=[True, False, True])\n",
    "sorted_socio_eco.head(10)"
   ]
  },
  {
   "cell_type": "markdown",
   "metadata": {},
   "source": [
    "Based upon the results, following will be countries that require financial aid if we decide to cluster them based upon socio economic factors. The following countries have low health, low exports:\n",
    "\n",
    "1. Madagascar\n",
    "2. Eritrea\n",
    "3. Central African Republic\n",
    "4. Niger\n",
    "5. Mozambique"
   ]
  },
  {
   "cell_type": "markdown",
   "metadata": {},
   "source": [
    "# Thank you"
   ]
  }
 ],
 "metadata": {
  "kernelspec": {
   "display_name": "Python 3",
   "language": "python",
   "name": "python3"
  },
  "language_info": {
   "codemirror_mode": {
    "name": "ipython",
    "version": 3
   },
   "file_extension": ".py",
   "mimetype": "text/x-python",
   "name": "python",
   "nbconvert_exporter": "python",
   "pygments_lexer": "ipython3",
   "version": "3.7.4"
  }
 },
 "nbformat": 4,
 "nbformat_minor": 2
}
